{
  "nbformat": 4,
  "nbformat_minor": 0,
  "metadata": {
    "colab": {
      "name": "Text Classification & Extraction.ipynb",
      "provenance": [],
      "collapsed_sections": []
    },
    "kernelspec": {
      "name": "python3",
      "display_name": "Python 3"
    },
    "language_info": {
      "name": "python"
    }
  },
  "cells": [
    {
      "cell_type": "markdown",
      "metadata": {
        "id": "dMGZXhTZinvZ"
      },
      "source": [
        "About Me:\n",
        "\n",
        "Lavi Nigam \n",
        "\n",
        "Data Scientist @ Google\n",
        "\n",
        "Working on Google Cloud AI Ecossytem \n",
        "\n",
        "Ex - Gartner, HCL Research\n",
        "\n",
        "40 Under 40 Data Scientist India 2021 \n",
        "\n",
        "8+ Years in ML, DL & AI\n",
        "\n",
        "\n",
        "LinkedIn - https://www.linkedin.com/in/lavinigam/ \n"
      ]
    },
    {
      "cell_type": "code",
      "metadata": {
        "id": "JwoqZDqQiXeS"
      },
      "source": [
        "import pandas as pd\n",
        "data=pd.read_csv(\"/content/tripadvisor_hotel_reviews.csv\")"
      ],
      "execution_count": 1,
      "outputs": []
    },
    {
      "cell_type": "code",
      "metadata": {
        "colab": {
          "base_uri": "https://localhost:8080/",
          "height": 206
        },
        "id": "boDUQe28oitm",
        "outputId": "f7225a6e-27b0-430a-8ede-a5254c0ee37c"
      },
      "source": [
        "data.head()"
      ],
      "execution_count": 2,
      "outputs": [
        {
          "output_type": "execute_result",
          "data": {
            "text/html": [
              "<div>\n",
              "<style scoped>\n",
              "    .dataframe tbody tr th:only-of-type {\n",
              "        vertical-align: middle;\n",
              "    }\n",
              "\n",
              "    .dataframe tbody tr th {\n",
              "        vertical-align: top;\n",
              "    }\n",
              "\n",
              "    .dataframe thead th {\n",
              "        text-align: right;\n",
              "    }\n",
              "</style>\n",
              "<table border=\"1\" class=\"dataframe\">\n",
              "  <thead>\n",
              "    <tr style=\"text-align: right;\">\n",
              "      <th></th>\n",
              "      <th>Review</th>\n",
              "      <th>Rating</th>\n",
              "    </tr>\n",
              "  </thead>\n",
              "  <tbody>\n",
              "    <tr>\n",
              "      <th>0</th>\n",
              "      <td>nice hotel expensive parking got good deal sta...</td>\n",
              "      <td>4</td>\n",
              "    </tr>\n",
              "    <tr>\n",
              "      <th>1</th>\n",
              "      <td>ok nothing special charge diamond member hilto...</td>\n",
              "      <td>2</td>\n",
              "    </tr>\n",
              "    <tr>\n",
              "      <th>2</th>\n",
              "      <td>nice rooms not 4* experience hotel monaco seat...</td>\n",
              "      <td>3</td>\n",
              "    </tr>\n",
              "    <tr>\n",
              "      <th>3</th>\n",
              "      <td>unique, great stay, wonderful time hotel monac...</td>\n",
              "      <td>5</td>\n",
              "    </tr>\n",
              "    <tr>\n",
              "      <th>4</th>\n",
              "      <td>great stay great stay, went seahawk game aweso...</td>\n",
              "      <td>5</td>\n",
              "    </tr>\n",
              "  </tbody>\n",
              "</table>\n",
              "</div>"
            ],
            "text/plain": [
              "                                              Review  Rating\n",
              "0  nice hotel expensive parking got good deal sta...       4\n",
              "1  ok nothing special charge diamond member hilto...       2\n",
              "2  nice rooms not 4* experience hotel monaco seat...       3\n",
              "3  unique, great stay, wonderful time hotel monac...       5\n",
              "4  great stay great stay, went seahawk game aweso...       5"
            ]
          },
          "metadata": {},
          "execution_count": 2
        }
      ]
    },
    {
      "cell_type": "code",
      "metadata": {
        "colab": {
          "base_uri": "https://localhost:8080/"
        },
        "id": "xX2ksotkpL79",
        "outputId": "acd7ae33-2347-4bcc-948a-7ca2ce7a539f"
      },
      "source": [
        "data['Rating'].value_counts()"
      ],
      "execution_count": 3,
      "outputs": [
        {
          "output_type": "execute_result",
          "data": {
            "text/plain": [
              "5    9054\n",
              "4    6039\n",
              "3    2184\n",
              "2    1793\n",
              "1    1421\n",
              "Name: Rating, dtype: int64"
            ]
          },
          "metadata": {},
          "execution_count": 3
        }
      ]
    },
    {
      "cell_type": "code",
      "metadata": {
        "colab": {
          "base_uri": "https://localhost:8080/",
          "height": 283
        },
        "id": "PBoK59QOpTUo",
        "outputId": "f2dfd651-aa50-433e-d45a-d0ff54709b70"
      },
      "source": [
        "data['Rating'].hist()"
      ],
      "execution_count": 4,
      "outputs": [
        {
          "output_type": "execute_result",
          "data": {
            "text/plain": [
              "<matplotlib.axes._subplots.AxesSubplot at 0x7fe8af5b2150>"
            ]
          },
          "metadata": {},
          "execution_count": 4
        },
        {
          "output_type": "display_data",
          "data": {
            "image/png": "[encoded data removed]",
            "text/plain": [
              "<Figure size 432x288 with 1 Axes>"
            ]
          },
          "metadata": {
            "needs_background": "light"
          }
        }
      ]
    },
    {
      "cell_type": "code",
      "metadata": {
        "id": "lVcVEkcmo-qg"
      },
      "source": [
        "# Should we take Rating as the sentiment?\n",
        "   # We can divide the ratings as sentiments -\n",
        "        # 4&5 ---> postive \n",
        "        # 3 --> Neutral \n",
        "        # 1,2 ---> Negative \n",
        "# or figure out sentiments from other libraries and use that as sentiment \n",
        "# or Hybrid Approach (Rating + Sentiment)"
      ],
      "execution_count": 6,
      "outputs": []
    },
    {
      "cell_type": "code",
      "metadata": {
        "colab": {
          "base_uri": "https://localhost:8080/",
          "height": 175
        },
        "id": "Dtw_YaRcp9cW",
        "outputId": "93cd5665-1493-4844-b65a-da9958375029"
      },
      "source": [
        "data.describe(include=\"O\")"
      ],
      "execution_count": 5,
      "outputs": [
        {
          "output_type": "execute_result",
          "data": {
            "text/html": [
              "<div>\n",
              "<style scoped>\n",
              "    .dataframe tbody tr th:only-of-type {\n",
              "        vertical-align: middle;\n",
              "    }\n",
              "\n",
              "    .dataframe tbody tr th {\n",
              "        vertical-align: top;\n",
              "    }\n",
              "\n",
              "    .dataframe thead th {\n",
              "        text-align: right;\n",
              "    }\n",
              "</style>\n",
              "<table border=\"1\" class=\"dataframe\">\n",
              "  <thead>\n",
              "    <tr style=\"text-align: right;\">\n",
              "      <th></th>\n",
              "      <th>Review</th>\n",
              "    </tr>\n",
              "  </thead>\n",
              "  <tbody>\n",
              "    <tr>\n",
              "      <th>count</th>\n",
              "      <td>20491</td>\n",
              "    </tr>\n",
              "    <tr>\n",
              "      <th>unique</th>\n",
              "      <td>20491</td>\n",
              "    </tr>\n",
              "    <tr>\n",
              "      <th>top</th>\n",
              "      <td>good location average hotel particular locatio...</td>\n",
              "    </tr>\n",
              "    <tr>\n",
              "      <th>freq</th>\n",
              "      <td>1</td>\n",
              "    </tr>\n",
              "  </tbody>\n",
              "</table>\n",
              "</div>"
            ],
            "text/plain": [
              "                                                   Review\n",
              "count                                               20491\n",
              "unique                                              20491\n",
              "top     good location average hotel particular locatio...\n",
              "freq                                                    1"
            ]
          },
          "metadata": {},
          "execution_count": 5
        }
      ]
    },
    {
      "cell_type": "code",
      "metadata": {
        "id": "-FB9YI2WqNsO"
      },
      "source": [
        "# Pre-Processing or Cleansing of Text:\n",
        "  # stemming & Lemmatization \n",
        "  # Punctunation Removal \n",
        "  # Stop Word Removal (Linguistic Features will be affected)\n",
        "  # Spell COrrection \n",
        "  # All to Lowercase\n",
        "  # Emoji Rmeovals or Extraction (* See if you can incorproate emojis in Sentiment calculation)\n",
        "  # Remova of URL \n",
        "  # COntractions & Inflictions \n",
        "  # Remove numbers, date, Time and specific Hotel Domain data\n",
        "\n",
        "# EDA \n",
        "# Analysis of Review Data \n",
        "  # WordClouds \n",
        "  # Positiv & Negative Words Analysis \n",
        "  # Sentence Length \n",
        "  # Word Counts \n",
        "  # NGram Analysis \n",
        "  # Extracting sentiment of the data \n",
        "  # Linguistic Data Extraction \n",
        "      # Count Number of Adjectives \n",
        "      # Noune Phrase Extraction \n"
      ],
      "execution_count": 8,
      "outputs": []
    },
    {
      "cell_type": "code",
      "metadata": {
        "id": "_FtG0WXfcsXI"
      },
      "source": [
        "def get_lower(data):\n",
        "  x=data.lower()\n",
        "  print(x)\n",
        "  return ''"
      ],
      "execution_count": 6,
      "outputs": []
    },
    {
      "cell_type": "code",
      "metadata": {
        "colab": {
          "base_uri": "https://localhost:8080/"
        },
        "id": "I-zwn4rf-iKy",
        "outputId": "591d957f-3d10-4c87-bdbc-b8649fa52576"
      },
      "source": [
        "data.iloc[0:5]['Review'].apply(get_lower)"
      ],
      "execution_count": 7,
      "outputs": [
        {
          "output_type": "stream",
          "name": "stdout",
          "text": [
            "nice hotel expensive parking got good deal stay hotel anniversary, arrived late evening took advice previous reviews did valet parking, check quick easy, little disappointed non-existent view room room clean nice size, bed comfortable woke stiff neck high pillows, not soundproof like heard music room night morning loud bangs doors opening closing hear people talking hallway, maybe just noisy neighbors, aveda bath products nice, did not goldfish stay nice touch taken advantage staying longer, location great walking distance shopping, overall nice experience having pay 40 parking night,  \n",
            "ok nothing special charge diamond member hilton decided chain shot 20th anniversary seattle, start booked suite paid extra website description not, suite bedroom bathroom standard hotel room, took printed reservation desk showed said things like tv couch ect desk clerk told oh mixed suites description kimpton website sorry free breakfast, got kidding, embassy suits sitting room bathroom bedroom unlike kimpton calls suite, 5 day stay offer correct false advertising, send kimpton preferred guest website email asking failure provide suite advertised website reservation description furnished hard copy reservation printout website desk manager duty did not reply solution, send email trip guest survey did not follow email mail, guess tell concerned guest.the staff ranged indifferent not helpful, asked desk good breakfast spots neighborhood hood told no hotels, gee best breakfast spots seattle 1/2 block away convenient hotel does not know exist, arrived late night 11 pm inside run bellman busy chating cell phone help bags.prior arrival emailed hotel inform 20th anniversary half really picky wanted make sure good, got nice email saying like deliver bottle champagne chocolate covered strawberries room arrival celebrate, told needed foam pillows, arrival no champagne strawberries no foam pillows great room view alley high rise building good not better housekeeping staff cleaner room property, impressed left morning shopping room got short trips 2 hours, beds comfortable.not good ac-heat control 4 x 4 inch screen bring green shine directly eyes night, light sensitive tape controls.this not 4 start hotel clean business hotel super high rates, better chain hotels seattle,  \n",
            "nice rooms not 4* experience hotel monaco seattle good hotel n't 4* level.positives large bathroom mediterranean suite comfortable bed pillowsattentive housekeeping staffnegatives ac unit malfunctioned stay desk disorganized, missed 3 separate wakeup calls, concierge busy hard touch, did n't provide guidance special requests.tv hard use ipod sound dock suite non functioning. decided book mediterranean suite 3 night weekend stay 1st choice rest party filled, comparison w spent 45 night larger square footage room great soaking tub whirlpool jets nice shower.before stay hotel arrange car service price 53 tip reasonable driver waiting arrival.checkin easy downside room picked 2 person jacuzi tub no bath accessories salts bubble bath did n't stay, night got 12/1a checked voucher bottle champagne nice gesture fish waiting room, impression room huge open space felt room big, tv far away bed chore change channel, ipod dock broken disappointing.in morning way asked desk check thermostat said 65f 74 2 degrees warm try cover face night bright blue light kept, got room night no, 1st drop desk, called maintainence came look thermostat told play settings happy digital box wo n't work, asked wakeup 10am morning did n't happen, called later 6pm nap wakeup forgot, 10am wakeup morning yep forgotten.the bathroom facilities great room surprised room sold whirlpool bath tub n't bath amenities, great relax water jets going,  \n",
            "unique, great stay, wonderful time hotel monaco, location excellent short stroll main downtown shopping area, pet friendly room showed no signs animal hair smells, monaco suite sleeping area big striped curtains pulled closed nice touch felt cosy, goldfish named brandi enjoyed, did n't partake free wine coffee/tea service lobby thought great feature, great staff friendly, free wireless internet hotel worked suite 2 laptops, decor lovely eclectic mix pattens color palatte, animal print bathrobes feel like rock stars, nice did n't look like sterile chain hotel hotel personality excellent stay,  \n",
            "great stay great stay, went seahawk game awesome, downfall view building did n't complain, room huge staff helpful, booked hotels website seahawk package, no charge parking got voucher taxi, problem taxi driver did n't want accept voucher barely spoke english, funny thing speak arabic called started making comments girlfriend cell phone buddy, took second realize just said fact speak language face priceless, ass told, said large city, told head doorman issue called cab company promply answer did n't, apologized offered pay taxi, bucks 2 miles stadium, game plan taxi return going humpin, great walk did n't mind, right christmas wonderful lights, homeless stowed away building entrances leave, police presence not greatest area stadium, activities 7 blocks pike street waterfront great coffee shops way, hotel mantained foyer awesome, wine tasting available evening, best dog, taking st. bernard time family, safes hotel located service desk room, bathroom huge jetted tub huge, funny house keeping walked girlfriend getting dressed, did n't hear knock doing turn service, screamed girlfriend screams hit floor laughing, started talking spanish worked, place recommend price, check online deals just good not better, besite contains deals vouchers travel websites n't tell,  \n"
          ]
        },
        {
          "output_type": "execute_result",
          "data": {
            "text/plain": [
              "0    \n",
              "1    \n",
              "2    \n",
              "3    \n",
              "4    \n",
              "Name: Review, dtype: object"
            ]
          },
          "metadata": {},
          "execution_count": 7
        }
      ]
    },
    {
      "cell_type": "code",
      "metadata": {
        "id": "kCWTyM0F_F-l"
      },
      "source": [
        "def get_lower_table(recorddata):\n",
        "  x=recorddata['Review'].lower()\n",
        "  print(recorddata['Rating'],x)"
      ],
      "execution_count": 8,
      "outputs": []
    },
    {
      "cell_type": "code",
      "metadata": {
        "colab": {
          "base_uri": "https://localhost:8080/",
          "height": 329
        },
        "id": "fbrEK8CFBQw5",
        "outputId": "04bb7230-0dd0-4a88-b692-8213cf73b0cd"
      },
      "source": [
        "data.iloc[0:5].apply(get_lower_table)"
      ],
      "execution_count": 9,
      "outputs": [
        {
          "output_type": "error",
          "ename": "KeyError",
          "evalue": "ignored",
          "traceback": [
            "\u001b[0;31m---------------------------------------------------------------------------\u001b[0m",
            "\u001b[0;31mKeyError\u001b[0m                                  Traceback (most recent call last)",
            "\u001b[0;32m<ipython-input-9-446b37f2c4c0>\u001b[0m in \u001b[0;36m<module>\u001b[0;34m()\u001b[0m\n\u001b[0;32m----> 1\u001b[0;31m \u001b[0mdata\u001b[0m\u001b[0;34m.\u001b[0m\u001b[0miloc\u001b[0m\u001b[0;34m[\u001b[0m\u001b[0;36m0\u001b[0m\u001b[0;34m:\u001b[0m\u001b[0;36m5\u001b[0m\u001b[0;34m]\u001b[0m\u001b[0;34m.\u001b[0m\u001b[0mapply\u001b[0m\u001b[0;34m(\u001b[0m\u001b[0mget_lower_table\u001b[0m\u001b[0;34m)\u001b[0m\u001b[0;34m\u001b[0m\u001b[0;34m\u001b[0m\u001b[0m\n\u001b[0m",
            "\u001b[0;32m/usr/local/lib/python3.7/dist-packages/pandas/core/frame.py\u001b[0m in \u001b[0;36mapply\u001b[0;34m(self, func, axis, raw, result_type, args, **kwds)\u001b[0m\n\u001b[1;32m   7550\u001b[0m             \u001b[0mkwds\u001b[0m\u001b[0;34m=\u001b[0m\u001b[0mkwds\u001b[0m\u001b[0;34m,\u001b[0m\u001b[0;34m\u001b[0m\u001b[0;34m\u001b[0m\u001b[0m\n\u001b[1;32m   7551\u001b[0m         )\n\u001b[0;32m-> 7552\u001b[0;31m         \u001b[0;32mreturn\u001b[0m \u001b[0mop\u001b[0m\u001b[0;34m.\u001b[0m\u001b[0mget_result\u001b[0m\u001b[0;34m(\u001b[0m\u001b[0;34m)\u001b[0m\u001b[0;34m\u001b[0m\u001b[0;34m\u001b[0m\u001b[0m\n\u001b[0m\u001b[1;32m   7553\u001b[0m \u001b[0;34m\u001b[0m\u001b[0m\n\u001b[1;32m   7554\u001b[0m     \u001b[0;32mdef\u001b[0m \u001b[0mapplymap\u001b[0m\u001b[0;34m(\u001b[0m\u001b[0mself\u001b[0m\u001b[0;34m,\u001b[0m \u001b[0mfunc\u001b[0m\u001b[0;34m)\u001b[0m \u001b[0;34m->\u001b[0m \u001b[0;34m\"DataFrame\"\u001b[0m\u001b[0;34m:\u001b[0m\u001b[0;34m\u001b[0m\u001b[0;34m\u001b[0m\u001b[0m\n",
            "\u001b[0;32m/usr/local/lib/python3.7/dist-packages/pandas/core/apply.py\u001b[0m in \u001b[0;36mget_result\u001b[0;34m(self)\u001b[0m\n\u001b[1;32m    183\u001b[0m             \u001b[0;32mreturn\u001b[0m \u001b[0mself\u001b[0m\u001b[0;34m.\u001b[0m\u001b[0mapply_raw\u001b[0m\u001b[0;34m(\u001b[0m\u001b[0;34m)\u001b[0m\u001b[0;34m\u001b[0m\u001b[0;34m\u001b[0m\u001b[0m\n\u001b[1;32m    184\u001b[0m \u001b[0;34m\u001b[0m\u001b[0m\n\u001b[0;32m--> 185\u001b[0;31m         \u001b[0;32mreturn\u001b[0m \u001b[0mself\u001b[0m\u001b[0;34m.\u001b[0m\u001b[0mapply_standard\u001b[0m\u001b[0;34m(\u001b[0m\u001b[0;34m)\u001b[0m\u001b[0;34m\u001b[0m\u001b[0;34m\u001b[0m\u001b[0m\n\u001b[0m\u001b[1;32m    186\u001b[0m \u001b[0;34m\u001b[0m\u001b[0m\n\u001b[1;32m    187\u001b[0m     \u001b[0;32mdef\u001b[0m \u001b[0mapply_empty_result\u001b[0m\u001b[0;34m(\u001b[0m\u001b[0mself\u001b[0m\u001b[0;34m)\u001b[0m\u001b[0;34m:\u001b[0m\u001b[0;34m\u001b[0m\u001b[0;34m\u001b[0m\u001b[0m\n",
            "\u001b[0;32m/usr/local/lib/python3.7/dist-packages/pandas/core/apply.py\u001b[0m in \u001b[0;36mapply_standard\u001b[0;34m(self)\u001b[0m\n\u001b[1;32m    274\u001b[0m \u001b[0;34m\u001b[0m\u001b[0m\n\u001b[1;32m    275\u001b[0m     \u001b[0;32mdef\u001b[0m \u001b[0mapply_standard\u001b[0m\u001b[0;34m(\u001b[0m\u001b[0mself\u001b[0m\u001b[0;34m)\u001b[0m\u001b[0;34m:\u001b[0m\u001b[0;34m\u001b[0m\u001b[0;34m\u001b[0m\u001b[0m\n\u001b[0;32m--> 276\u001b[0;31m         \u001b[0mresults\u001b[0m\u001b[0;34m,\u001b[0m \u001b[0mres_index\u001b[0m \u001b[0;34m=\u001b[0m \u001b[0mself\u001b[0m\u001b[0;34m.\u001b[0m\u001b[0mapply_series_generator\u001b[0m\u001b[0;34m(\u001b[0m\u001b[0;34m)\u001b[0m\u001b[0;34m\u001b[0m\u001b[0;34m\u001b[0m\u001b[0m\n\u001b[0m\u001b[1;32m    277\u001b[0m \u001b[0;34m\u001b[0m\u001b[0m\n\u001b[1;32m    278\u001b[0m         \u001b[0;31m# wrap results\u001b[0m\u001b[0;34m\u001b[0m\u001b[0;34m\u001b[0m\u001b[0;34m\u001b[0m\u001b[0m\n",
            "\u001b[0;32m/usr/local/lib/python3.7/dist-packages/pandas/core/apply.py\u001b[0m in \u001b[0;36mapply_series_generator\u001b[0;34m(self)\u001b[0m\n\u001b[1;32m    303\u001b[0m                 \u001b[0;32mfor\u001b[0m \u001b[0mi\u001b[0m\u001b[0;34m,\u001b[0m \u001b[0mv\u001b[0m \u001b[0;32min\u001b[0m \u001b[0menumerate\u001b[0m\u001b[0;34m(\u001b[0m\u001b[0mseries_gen\u001b[0m\u001b[0;34m)\u001b[0m\u001b[0;34m:\u001b[0m\u001b[0;34m\u001b[0m\u001b[0;34m\u001b[0m\u001b[0m\n\u001b[1;32m    304\u001b[0m                     \u001b[0;31m# ignore SettingWithCopy here in case the user mutates\u001b[0m\u001b[0;34m\u001b[0m\u001b[0;34m\u001b[0m\u001b[0;34m\u001b[0m\u001b[0m\n\u001b[0;32m--> 305\u001b[0;31m                     \u001b[0mresults\u001b[0m\u001b[0;34m[\u001b[0m\u001b[0mi\u001b[0m\u001b[0;34m]\u001b[0m \u001b[0;34m=\u001b[0m \u001b[0mself\u001b[0m\u001b[0;34m.\u001b[0m\u001b[0mf\u001b[0m\u001b[0;34m(\u001b[0m\u001b[0mv\u001b[0m\u001b[0;34m)\u001b[0m\u001b[0;34m\u001b[0m\u001b[0;34m\u001b[0m\u001b[0m\n\u001b[0m\u001b[1;32m    306\u001b[0m                     \u001b[0;32mif\u001b[0m \u001b[0misinstance\u001b[0m\u001b[0;34m(\u001b[0m\u001b[0mresults\u001b[0m\u001b[0;34m[\u001b[0m\u001b[0mi\u001b[0m\u001b[0;34m]\u001b[0m\u001b[0;34m,\u001b[0m \u001b[0mABCSeries\u001b[0m\u001b[0;34m)\u001b[0m\u001b[0;34m:\u001b[0m\u001b[0;34m\u001b[0m\u001b[0;34m\u001b[0m\u001b[0m\n\u001b[1;32m    307\u001b[0m                         \u001b[0;31m# If we have a view on v, we need to make a copy because\u001b[0m\u001b[0;34m\u001b[0m\u001b[0;34m\u001b[0m\u001b[0;34m\u001b[0m\u001b[0m\n",
            "\u001b[0;32m<ipython-input-8-70ea8147f901>\u001b[0m in \u001b[0;36mget_lower_table\u001b[0;34m(recorddata)\u001b[0m\n\u001b[1;32m      1\u001b[0m \u001b[0;32mdef\u001b[0m \u001b[0mget_lower_table\u001b[0m\u001b[0;34m(\u001b[0m\u001b[0mrecorddata\u001b[0m\u001b[0;34m)\u001b[0m\u001b[0;34m:\u001b[0m\u001b[0;34m\u001b[0m\u001b[0;34m\u001b[0m\u001b[0m\n\u001b[0;32m----> 2\u001b[0;31m   \u001b[0mx\u001b[0m\u001b[0;34m=\u001b[0m\u001b[0mrecorddata\u001b[0m\u001b[0;34m[\u001b[0m\u001b[0;34m'Review'\u001b[0m\u001b[0;34m]\u001b[0m\u001b[0;34m.\u001b[0m\u001b[0mlower\u001b[0m\u001b[0;34m(\u001b[0m\u001b[0;34m)\u001b[0m\u001b[0;34m\u001b[0m\u001b[0;34m\u001b[0m\u001b[0m\n\u001b[0m\u001b[1;32m      3\u001b[0m   \u001b[0mprint\u001b[0m\u001b[0;34m(\u001b[0m\u001b[0mrecorddata\u001b[0m\u001b[0;34m[\u001b[0m\u001b[0;34m'Rating'\u001b[0m\u001b[0;34m]\u001b[0m\u001b[0;34m,\u001b[0m\u001b[0mx\u001b[0m\u001b[0;34m)\u001b[0m\u001b[0;34m\u001b[0m\u001b[0;34m\u001b[0m\u001b[0m\n",
            "\u001b[0;32m/usr/local/lib/python3.7/dist-packages/pandas/core/series.py\u001b[0m in \u001b[0;36m__getitem__\u001b[0;34m(self, key)\u001b[0m\n\u001b[1;32m    880\u001b[0m \u001b[0;34m\u001b[0m\u001b[0m\n\u001b[1;32m    881\u001b[0m         \u001b[0;32melif\u001b[0m \u001b[0mkey_is_scalar\u001b[0m\u001b[0;34m:\u001b[0m\u001b[0;34m\u001b[0m\u001b[0;34m\u001b[0m\u001b[0m\n\u001b[0;32m--> 882\u001b[0;31m             \u001b[0;32mreturn\u001b[0m \u001b[0mself\u001b[0m\u001b[0;34m.\u001b[0m\u001b[0m_get_value\u001b[0m\u001b[0;34m(\u001b[0m\u001b[0mkey\u001b[0m\u001b[0;34m)\u001b[0m\u001b[0;34m\u001b[0m\u001b[0;34m\u001b[0m\u001b[0m\n\u001b[0m\u001b[1;32m    883\u001b[0m \u001b[0;34m\u001b[0m\u001b[0m\n\u001b[1;32m    884\u001b[0m         \u001b[0;32mif\u001b[0m \u001b[0mis_hashable\u001b[0m\u001b[0;34m(\u001b[0m\u001b[0mkey\u001b[0m\u001b[0;34m)\u001b[0m\u001b[0;34m:\u001b[0m\u001b[0;34m\u001b[0m\u001b[0;34m\u001b[0m\u001b[0m\n",
            "\u001b[0;32m/usr/local/lib/python3.7/dist-packages/pandas/core/series.py\u001b[0m in \u001b[0;36m_get_value\u001b[0;34m(self, label, takeable)\u001b[0m\n\u001b[1;32m    988\u001b[0m \u001b[0;34m\u001b[0m\u001b[0m\n\u001b[1;32m    989\u001b[0m         \u001b[0;31m# Similar to Index.get_value, but we do not fall back to positional\u001b[0m\u001b[0;34m\u001b[0m\u001b[0;34m\u001b[0m\u001b[0;34m\u001b[0m\u001b[0m\n\u001b[0;32m--> 990\u001b[0;31m         \u001b[0mloc\u001b[0m \u001b[0;34m=\u001b[0m \u001b[0mself\u001b[0m\u001b[0;34m.\u001b[0m\u001b[0mindex\u001b[0m\u001b[0;34m.\u001b[0m\u001b[0mget_loc\u001b[0m\u001b[0;34m(\u001b[0m\u001b[0mlabel\u001b[0m\u001b[0;34m)\u001b[0m\u001b[0;34m\u001b[0m\u001b[0;34m\u001b[0m\u001b[0m\n\u001b[0m\u001b[1;32m    991\u001b[0m         \u001b[0;32mreturn\u001b[0m \u001b[0mself\u001b[0m\u001b[0;34m.\u001b[0m\u001b[0mindex\u001b[0m\u001b[0;34m.\u001b[0m\u001b[0m_get_values_for_loc\u001b[0m\u001b[0;34m(\u001b[0m\u001b[0mself\u001b[0m\u001b[0;34m,\u001b[0m \u001b[0mloc\u001b[0m\u001b[0;34m,\u001b[0m \u001b[0mlabel\u001b[0m\u001b[0;34m)\u001b[0m\u001b[0;34m\u001b[0m\u001b[0;34m\u001b[0m\u001b[0m\n\u001b[1;32m    992\u001b[0m \u001b[0;34m\u001b[0m\u001b[0m\n",
            "\u001b[0;32m/usr/local/lib/python3.7/dist-packages/pandas/core/indexes/range.py\u001b[0m in \u001b[0;36mget_loc\u001b[0;34m(self, key, method, tolerance)\u001b[0m\n\u001b[1;32m    356\u001b[0m                 \u001b[0;32mexcept\u001b[0m \u001b[0mValueError\u001b[0m \u001b[0;32mas\u001b[0m \u001b[0merr\u001b[0m\u001b[0;34m:\u001b[0m\u001b[0;34m\u001b[0m\u001b[0;34m\u001b[0m\u001b[0m\n\u001b[1;32m    357\u001b[0m                     \u001b[0;32mraise\u001b[0m \u001b[0mKeyError\u001b[0m\u001b[0;34m(\u001b[0m\u001b[0mkey\u001b[0m\u001b[0;34m)\u001b[0m \u001b[0;32mfrom\u001b[0m \u001b[0merr\u001b[0m\u001b[0;34m\u001b[0m\u001b[0;34m\u001b[0m\u001b[0m\n\u001b[0;32m--> 358\u001b[0;31m             \u001b[0;32mraise\u001b[0m \u001b[0mKeyError\u001b[0m\u001b[0;34m(\u001b[0m\u001b[0mkey\u001b[0m\u001b[0;34m)\u001b[0m\u001b[0;34m\u001b[0m\u001b[0;34m\u001b[0m\u001b[0m\n\u001b[0m\u001b[1;32m    359\u001b[0m         \u001b[0;32mreturn\u001b[0m \u001b[0msuper\u001b[0m\u001b[0;34m(\u001b[0m\u001b[0;34m)\u001b[0m\u001b[0;34m.\u001b[0m\u001b[0mget_loc\u001b[0m\u001b[0;34m(\u001b[0m\u001b[0mkey\u001b[0m\u001b[0;34m,\u001b[0m \u001b[0mmethod\u001b[0m\u001b[0;34m=\u001b[0m\u001b[0mmethod\u001b[0m\u001b[0;34m,\u001b[0m \u001b[0mtolerance\u001b[0m\u001b[0;34m=\u001b[0m\u001b[0mtolerance\u001b[0m\u001b[0;34m)\u001b[0m\u001b[0;34m\u001b[0m\u001b[0;34m\u001b[0m\u001b[0m\n\u001b[1;32m    360\u001b[0m \u001b[0;34m\u001b[0m\u001b[0m\n",
            "\u001b[0;31mKeyError\u001b[0m: 'Review'"
          ]
        }
      ]
    },
    {
      "cell_type": "code",
      "metadata": {
        "colab": {
          "base_uri": "https://localhost:8080/"
        },
        "id": "HtlzSNkw_AkO",
        "outputId": "12d631cd-65cf-4c24-fe15-cae4fac42bc1"
      },
      "source": [
        "data.iloc[0:5].apply(get_lower_table,axis=1)"
      ],
      "execution_count": 10,
      "outputs": [
        {
          "output_type": "stream",
          "name": "stdout",
          "text": [
            "4 nice hotel expensive parking got good deal stay hotel anniversary, arrived late evening took advice previous reviews did valet parking, check quick easy, little disappointed non-existent view room room clean nice size, bed comfortable woke stiff neck high pillows, not soundproof like heard music room night morning loud bangs doors opening closing hear people talking hallway, maybe just noisy neighbors, aveda bath products nice, did not goldfish stay nice touch taken advantage staying longer, location great walking distance shopping, overall nice experience having pay 40 parking night,  \n",
            "2 ok nothing special charge diamond member hilton decided chain shot 20th anniversary seattle, start booked suite paid extra website description not, suite bedroom bathroom standard hotel room, took printed reservation desk showed said things like tv couch ect desk clerk told oh mixed suites description kimpton website sorry free breakfast, got kidding, embassy suits sitting room bathroom bedroom unlike kimpton calls suite, 5 day stay offer correct false advertising, send kimpton preferred guest website email asking failure provide suite advertised website reservation description furnished hard copy reservation printout website desk manager duty did not reply solution, send email trip guest survey did not follow email mail, guess tell concerned guest.the staff ranged indifferent not helpful, asked desk good breakfast spots neighborhood hood told no hotels, gee best breakfast spots seattle 1/2 block away convenient hotel does not know exist, arrived late night 11 pm inside run bellman busy chating cell phone help bags.prior arrival emailed hotel inform 20th anniversary half really picky wanted make sure good, got nice email saying like deliver bottle champagne chocolate covered strawberries room arrival celebrate, told needed foam pillows, arrival no champagne strawberries no foam pillows great room view alley high rise building good not better housekeeping staff cleaner room property, impressed left morning shopping room got short trips 2 hours, beds comfortable.not good ac-heat control 4 x 4 inch screen bring green shine directly eyes night, light sensitive tape controls.this not 4 start hotel clean business hotel super high rates, better chain hotels seattle,  \n",
            "3 nice rooms not 4* experience hotel monaco seattle good hotel n't 4* level.positives large bathroom mediterranean suite comfortable bed pillowsattentive housekeeping staffnegatives ac unit malfunctioned stay desk disorganized, missed 3 separate wakeup calls, concierge busy hard touch, did n't provide guidance special requests.tv hard use ipod sound dock suite non functioning. decided book mediterranean suite 3 night weekend stay 1st choice rest party filled, comparison w spent 45 night larger square footage room great soaking tub whirlpool jets nice shower.before stay hotel arrange car service price 53 tip reasonable driver waiting arrival.checkin easy downside room picked 2 person jacuzi tub no bath accessories salts bubble bath did n't stay, night got 12/1a checked voucher bottle champagne nice gesture fish waiting room, impression room huge open space felt room big, tv far away bed chore change channel, ipod dock broken disappointing.in morning way asked desk check thermostat said 65f 74 2 degrees warm try cover face night bright blue light kept, got room night no, 1st drop desk, called maintainence came look thermostat told play settings happy digital box wo n't work, asked wakeup 10am morning did n't happen, called later 6pm nap wakeup forgot, 10am wakeup morning yep forgotten.the bathroom facilities great room surprised room sold whirlpool bath tub n't bath amenities, great relax water jets going,  \n",
            "5 unique, great stay, wonderful time hotel monaco, location excellent short stroll main downtown shopping area, pet friendly room showed no signs animal hair smells, monaco suite sleeping area big striped curtains pulled closed nice touch felt cosy, goldfish named brandi enjoyed, did n't partake free wine coffee/tea service lobby thought great feature, great staff friendly, free wireless internet hotel worked suite 2 laptops, decor lovely eclectic mix pattens color palatte, animal print bathrobes feel like rock stars, nice did n't look like sterile chain hotel hotel personality excellent stay,  \n",
            "5 great stay great stay, went seahawk game awesome, downfall view building did n't complain, room huge staff helpful, booked hotels website seahawk package, no charge parking got voucher taxi, problem taxi driver did n't want accept voucher barely spoke english, funny thing speak arabic called started making comments girlfriend cell phone buddy, took second realize just said fact speak language face priceless, ass told, said large city, told head doorman issue called cab company promply answer did n't, apologized offered pay taxi, bucks 2 miles stadium, game plan taxi return going humpin, great walk did n't mind, right christmas wonderful lights, homeless stowed away building entrances leave, police presence not greatest area stadium, activities 7 blocks pike street waterfront great coffee shops way, hotel mantained foyer awesome, wine tasting available evening, best dog, taking st. bernard time family, safes hotel located service desk room, bathroom huge jetted tub huge, funny house keeping walked girlfriend getting dressed, did n't hear knock doing turn service, screamed girlfriend screams hit floor laughing, started talking spanish worked, place recommend price, check online deals just good not better, besite contains deals vouchers travel websites n't tell,  \n"
          ]
        },
        {
          "output_type": "execute_result",
          "data": {
            "text/plain": [
              "0    None\n",
              "1    None\n",
              "2    None\n",
              "3    None\n",
              "4    None\n",
              "dtype: object"
            ]
          },
          "metadata": {},
          "execution_count": 10
        }
      ]
    },
    {
      "cell_type": "code",
      "metadata": {
        "id": "7J1qPV6ziZ_b"
      },
      "source": [
        "from nltk.corpus import stopwords"
      ],
      "execution_count": 11,
      "outputs": []
    },
    {
      "cell_type": "code",
      "metadata": {
        "colab": {
          "base_uri": "https://localhost:8080/"
        },
        "id": "WB_f2AAXib0s",
        "outputId": "b38a02c3-8998-42b2-ce97-3cfe61030b67"
      },
      "source": [
        "import nltk\n",
        "nltk.download('stopwords')"
      ],
      "execution_count": 12,
      "outputs": [
        {
          "output_type": "stream",
          "name": "stdout",
          "text": [
            "[nltk_data] Downloading package stopwords to /root/nltk_data...\n",
            "[nltk_data]   Unzipping corpora/stopwords.zip.\n"
          ]
        },
        {
          "output_type": "execute_result",
          "data": {
            "text/plain": [
              "True"
            ]
          },
          "metadata": {},
          "execution_count": 12
        }
      ]
    },
    {
      "cell_type": "code",
      "metadata": {
        "colab": {
          "base_uri": "https://localhost:8080/"
        },
        "id": "N-09_pO5DXPD",
        "outputId": "cc4409d7-1ab0-441f-d49d-04832e517d8b"
      },
      "source": [
        "words=\"this is my review sentence\".split()\n",
        "[word for word in words if word not in stopwords.words('english')]"
      ],
      "execution_count": 13,
      "outputs": [
        {
          "output_type": "execute_result",
          "data": {
            "text/plain": [
              "['review', 'sentence']"
            ]
          },
          "metadata": {},
          "execution_count": 13
        }
      ]
    },
    {
      "cell_type": "code",
      "metadata": {
        "colab": {
          "base_uri": "https://localhost:8080/"
        },
        "id": "XeMUPn5aNZjO",
        "outputId": "26bf35fd-0ed9-4464-9c7f-1bbadd3f6e64"
      },
      "source": [
        "data['Review'].str.split()"
      ],
      "execution_count": 14,
      "outputs": [
        {
          "output_type": "execute_result",
          "data": {
            "text/plain": [
              "0        [nice, hotel, expensive, parking, got, good, d...\n",
              "1        [ok, nothing, special, charge, diamond, member...\n",
              "2        [nice, rooms, not, 4*, experience, hotel, mona...\n",
              "3        [unique,, great, stay,, wonderful, time, hotel...\n",
              "4        [great, stay, great, stay,, went, seahawk, gam...\n",
              "                               ...                        \n",
              "20486    [best, kept, secret, 3rd, time, staying, charm...\n",
              "20487    [great, location, price, view, hotel, great, q...\n",
              "20488    [ok, just, looks, nice, modern, outside,, desk...\n",
              "20489    [hotel, theft, ruined, vacation, hotel, opened...\n",
              "20490    [people, talking,, ca, n't, believe, excellent...\n",
              "Name: Review, Length: 20491, dtype: object"
            ]
          },
          "metadata": {},
          "execution_count": 14
        }
      ]
    },
    {
      "cell_type": "code",
      "metadata": {
        "id": "wriIWm0lNrEI"
      },
      "source": [
        "word_list = []\n",
        "for eachList in data['Review'].str.split():\n",
        "  word_list.extend(eachList)"
      ],
      "execution_count": 15,
      "outputs": []
    },
    {
      "cell_type": "code",
      "metadata": {
        "id": "rrh1uC1MNvhw"
      },
      "source": [
        "from collections import Counter"
      ],
      "execution_count": 16,
      "outputs": []
    },
    {
      "cell_type": "code",
      "metadata": {
        "colab": {
          "base_uri": "https://localhost:8080/"
        },
        "id": "P6J1mqrBOA2p",
        "outputId": "5d91053c-9310-4e39-9181-0632141cf56c"
      },
      "source": [
        "Counter(word_list).most_common(50)"
      ],
      "execution_count": 17,
      "outputs": [
        {
          "output_type": "execute_result",
          "data": {
            "text/plain": [
              "[('hotel', 42079),\n",
              " ('not', 30750),\n",
              " ('room', 30532),\n",
              " ('great', 18732),\n",
              " (\"n't\", 18436),\n",
              " ('staff', 14950),\n",
              " ('good', 14791),\n",
              " ('did', 13433),\n",
              " ('just', 12458),\n",
              " ('stay', 11376),\n",
              " ('no', 11360),\n",
              " ('rooms', 10935),\n",
              " ('nice', 10918),\n",
              " ('stayed', 10022),\n",
              " ('location', 9515),\n",
              " ('service', 8549),\n",
              " ('breakfast', 8407),\n",
              " ('beach', 8218),\n",
              " ('food', 8026),\n",
              " ('like', 7677),\n",
              " ('clean', 7658),\n",
              " ('time', 7615),\n",
              " ('really', 7612),\n",
              " ('night', 7596),\n",
              " ('day', 7409),\n",
              " ('hotel,', 6678),\n",
              " ('pool', 6398),\n",
              " ('place', 6341),\n",
              " ('resort', 6248),\n",
              " ('little', 6151),\n",
              " ('people', 6116),\n",
              " ('small', 6116),\n",
              " ('got', 5951),\n",
              " ('friendly', 5651),\n",
              " ('walk', 5577),\n",
              " ('2', 5459),\n",
              " ('best', 5003),\n",
              " ('excellent', 4923),\n",
              " ('area', 4720),\n",
              " ('restaurant', 4581),\n",
              " ('bar', 4498),\n",
              " ('went', 4471),\n",
              " ('water', 4290),\n",
              " ('bathroom', 4266),\n",
              " ('recommend', 4240),\n",
              " ('bed', 4187),\n",
              " ('restaurants', 4179),\n",
              " ('trip', 4064),\n",
              " ('3', 4052),\n",
              " ('desk', 4037)]"
            ]
          },
          "metadata": {},
          "execution_count": 17
        }
      ]
    },
    {
      "cell_type": "code",
      "metadata": {
        "colab": {
          "base_uri": "https://localhost:8080/"
        },
        "id": "fFAQooX6ONwF",
        "outputId": "71c63ee5-243d-47e6-cc90-d6e69c31196d"
      },
      "source": [
        "Counter(word_list).most_common()[-50:]"
      ],
      "execution_count": 18,
      "outputs": [
        {
          "output_type": "execute_result",
          "data": {
            "text/plain": [
              "[('neutralizer', 1),\n",
              " ('nauseously', 1),\n",
              " ('aerate', 1),\n",
              " ('butthat', 1),\n",
              " ('uplift', 1),\n",
              " ('esteem,', 1),\n",
              " ('sights.directly', 1),\n",
              " ('mall.amenities', 1),\n",
              " ('restaurant.rooms', 1),\n",
              " ('families.recommend', 1),\n",
              " ('view.there', 1),\n",
              " ('gobcn-', 1),\n",
              " ('pilling', 1),\n",
              " ('gottic,', 1),\n",
              " ('korea', 1),\n",
              " ('moneybelt', 1),\n",
              " ('1,700', 1),\n",
              " ('shaken,', 1),\n",
              " ('fingerprinted', 1),\n",
              " ('fingerprints,', 1),\n",
              " ('invalid', 1),\n",
              " ('unbolted', 1),\n",
              " ('crime.we', 1),\n",
              " ('aftermath', 1),\n",
              " ('elusive', 1),\n",
              " ('evasive', 1),\n",
              " ('said.after', 1),\n",
              " ('thereafter.they', 1),\n",
              " ('indemnified', 1),\n",
              " ('cheque,', 1),\n",
              " ('blackmailed', 1),\n",
              " ('document.to', 1),\n",
              " ('unlucky.,', 1),\n",
              " ('hotel.incredibly', 1),\n",
              " ('attests', 1),\n",
              " ('hard-line', 1),\n",
              " ('opinion.in', 1),\n",
              " ('mossos', 1),\n",
              " (\"d'esquadra\", 1),\n",
              " ('undercover', 1),\n",
              " ('barcelonins', 1),\n",
              " ('job.all', 1),\n",
              " ('victimized.this', 1),\n",
              " ('established,', 1),\n",
              " ('tallers', 1),\n",
              " ('muggings', 1),\n",
              " ('corner.one', 1),\n",
              " ('pocket.there', 1),\n",
              " ('swears', 1),\n",
              " ('prostitution,', 1)]"
            ]
          },
          "metadata": {},
          "execution_count": 18
        }
      ]
    },
    {
      "cell_type": "code",
      "metadata": {
        "colab": {
          "base_uri": "https://localhost:8080/"
        },
        "id": "vMpUnIrzOv-3",
        "outputId": "1e16d13c-8c56-4a6d-bdb1-dbbd724effb5"
      },
      "source": [
        "[word[0] for word in Counter(word_list).most_common()[-50:]]"
      ],
      "execution_count": 19,
      "outputs": [
        {
          "output_type": "execute_result",
          "data": {
            "text/plain": [
              "['neutralizer',\n",
              " 'nauseously',\n",
              " 'aerate',\n",
              " 'butthat',\n",
              " 'uplift',\n",
              " 'esteem,',\n",
              " 'sights.directly',\n",
              " 'mall.amenities',\n",
              " 'restaurant.rooms',\n",
              " 'families.recommend',\n",
              " 'view.there',\n",
              " 'gobcn-',\n",
              " 'pilling',\n",
              " 'gottic,',\n",
              " 'korea',\n",
              " 'moneybelt',\n",
              " '1,700',\n",
              " 'shaken,',\n",
              " 'fingerprinted',\n",
              " 'fingerprints,',\n",
              " 'invalid',\n",
              " 'unbolted',\n",
              " 'crime.we',\n",
              " 'aftermath',\n",
              " 'elusive',\n",
              " 'evasive',\n",
              " 'said.after',\n",
              " 'thereafter.they',\n",
              " 'indemnified',\n",
              " 'cheque,',\n",
              " 'blackmailed',\n",
              " 'document.to',\n",
              " 'unlucky.,',\n",
              " 'hotel.incredibly',\n",
              " 'attests',\n",
              " 'hard-line',\n",
              " 'opinion.in',\n",
              " 'mossos',\n",
              " \"d'esquadra\",\n",
              " 'undercover',\n",
              " 'barcelonins',\n",
              " 'job.all',\n",
              " 'victimized.this',\n",
              " 'established,',\n",
              " 'tallers',\n",
              " 'muggings',\n",
              " 'corner.one',\n",
              " 'pocket.there',\n",
              " 'swears',\n",
              " 'prostitution,']"
            ]
          },
          "metadata": {},
          "execution_count": 19
        }
      ]
    },
    {
      "cell_type": "code",
      "metadata": {
        "id": "HEJCjCEFPFZu"
      },
      "source": [
        "least_common_words = [word for word,count in Counter(word_list).most_common()[-50:]]"
      ],
      "execution_count": 20,
      "outputs": []
    },
    {
      "cell_type": "code",
      "metadata": {
        "id": "OXalP8-eT5Sh"
      },
      "source": [
        "most_common_words = [word for word,count in Counter(word_list).most_common(50)]"
      ],
      "execution_count": 21,
      "outputs": []
    },
    {
      "cell_type": "code",
      "metadata": {
        "id": "JK4FX8t3EqY8"
      },
      "source": [
        "def get_removeStopWord(sentence, word_list_to_remove):\n",
        "  word_list = sentence.split()\n",
        "  sentence_stopword_remove1 = [word for word in word_list if word not in word_list_to_remove]\n",
        "  return \" \".join(sentence_stopword_remove1)"
      ],
      "execution_count": 22,
      "outputs": []
    },
    {
      "cell_type": "code",
      "metadata": {
        "id": "cHNG5j-NB5d6"
      },
      "source": [
        "# Apply Function\n",
        "\n",
        "import string\n",
        "\n",
        "def get_clean(eachRow):\n",
        "  # Convert the entire text to lowercase\n",
        "  eachRow_v1 = eachRow.lower()\n",
        "\n",
        "  # Default way is to use english stopwords\n",
        "\n",
        "  # Split the text to form a list of words\n",
        "  #word_list = eachRow_v1.split()\n",
        "  # Remove the stop words using List comprehension\n",
        "  #eachRow_stopword_removed = [word for word in word_list if word not in stopwords.words('english')]\n",
        "  #eachRow_v2 = \" \".join(eachRow_stopword_removed)\n",
        "\n",
        "  custom_stopwords = []\n",
        "  custom_stopwords.extend(most_common_words)\n",
        "  custom_stopwords.extend(least_common_words)\n",
        "  eachRow_v2 = get_removeStopWord(eachRow_v1, custom_stopwords)\n",
        "\n",
        "  # Remove the punctuation\n",
        "  eachRow_v3 = eachRow_v2.translate(str.maketrans('','',string.punctuation))\n",
        "\n",
        "  return eachRow_v3"
      ],
      "execution_count": 23,
      "outputs": []
    },
    {
      "cell_type": "code",
      "metadata": {
        "colab": {
          "base_uri": "https://localhost:8080/",
          "height": 35
        },
        "id": "hKu2duc2Vwho",
        "outputId": "58b6ed79-053e-416c-9227-393a1804b8d6"
      },
      "source": [
        "get_clean(\"aaa?bbb/><,.~!@#$%^&*()_-+=`\")"
      ],
      "execution_count": 24,
      "outputs": [
        {
          "output_type": "execute_result",
          "data": {
            "application/vnd.google.colaboratory.intrinsic+json": {
              "type": "string"
            },
            "text/plain": [
              "'aaabbb'"
            ]
          },
          "metadata": {},
          "execution_count": 24
        }
      ]
    },
    {
      "cell_type": "code",
      "metadata": {
        "colab": {
          "base_uri": "https://localhost:8080/"
        },
        "id": "nAKRv1PpCWFO",
        "outputId": "b15e4c7d-8904-4fcf-9926-39722be450cf"
      },
      "source": [
        "data.iloc[0:5]['Review'].apply(get_clean)"
      ],
      "execution_count": 25,
      "outputs": [
        {
          "output_type": "execute_result",
          "data": {
            "text/plain": [
              "0    expensive parking deal anniversary arrived lat...\n",
              "1    ok nothing special charge diamond member hilto...\n",
              "2    4 experience monaco seattle 4 levelpositives l...\n",
              "3    unique stay wonderful monaco short stroll main...\n",
              "4    stay seahawk game awesome downfall view buildi...\n",
              "Name: Review, dtype: object"
            ]
          },
          "metadata": {},
          "execution_count": 25
        }
      ]
    },
    {
      "cell_type": "code",
      "metadata": {
        "id": "-q45b4k9WGgp"
      },
      "source": [
        "data['Review_Clean_v1'] = data['Review'].apply(get_clean)"
      ],
      "execution_count": 26,
      "outputs": []
    },
    {
      "cell_type": "code",
      "metadata": {
        "colab": {
          "base_uri": "https://localhost:8080/",
          "height": 206
        },
        "id": "S5RoSf9rWQ4P",
        "outputId": "f47f7bac-94d8-4c6c-f05d-0e53bb3c058a"
      },
      "source": [
        "data.head()"
      ],
      "execution_count": 27,
      "outputs": [
        {
          "output_type": "execute_result",
          "data": {
            "text/html": [
              "<div>\n",
              "<style scoped>\n",
              "    .dataframe tbody tr th:only-of-type {\n",
              "        vertical-align: middle;\n",
              "    }\n",
              "\n",
              "    .dataframe tbody tr th {\n",
              "        vertical-align: top;\n",
              "    }\n",
              "\n",
              "    .dataframe thead th {\n",
              "        text-align: right;\n",
              "    }\n",
              "</style>\n",
              "<table border=\"1\" class=\"dataframe\">\n",
              "  <thead>\n",
              "    <tr style=\"text-align: right;\">\n",
              "      <th></th>\n",
              "      <th>Review</th>\n",
              "      <th>Rating</th>\n",
              "      <th>Review_Clean_v1</th>\n",
              "    </tr>\n",
              "  </thead>\n",
              "  <tbody>\n",
              "    <tr>\n",
              "      <th>0</th>\n",
              "      <td>nice hotel expensive parking got good deal sta...</td>\n",
              "      <td>4</td>\n",
              "      <td>expensive parking deal anniversary arrived lat...</td>\n",
              "    </tr>\n",
              "    <tr>\n",
              "      <th>1</th>\n",
              "      <td>ok nothing special charge diamond member hilto...</td>\n",
              "      <td>2</td>\n",
              "      <td>ok nothing special charge diamond member hilto...</td>\n",
              "    </tr>\n",
              "    <tr>\n",
              "      <th>2</th>\n",
              "      <td>nice rooms not 4* experience hotel monaco seat...</td>\n",
              "      <td>3</td>\n",
              "      <td>4 experience monaco seattle 4 levelpositives l...</td>\n",
              "    </tr>\n",
              "    <tr>\n",
              "      <th>3</th>\n",
              "      <td>unique, great stay, wonderful time hotel monac...</td>\n",
              "      <td>5</td>\n",
              "      <td>unique stay wonderful monaco short stroll main...</td>\n",
              "    </tr>\n",
              "    <tr>\n",
              "      <th>4</th>\n",
              "      <td>great stay great stay, went seahawk game aweso...</td>\n",
              "      <td>5</td>\n",
              "      <td>stay seahawk game awesome downfall view buildi...</td>\n",
              "    </tr>\n",
              "  </tbody>\n",
              "</table>\n",
              "</div>"
            ],
            "text/plain": [
              "                                              Review  ...                                    Review_Clean_v1\n",
              "0  nice hotel expensive parking got good deal sta...  ...  expensive parking deal anniversary arrived lat...\n",
              "1  ok nothing special charge diamond member hilto...  ...  ok nothing special charge diamond member hilto...\n",
              "2  nice rooms not 4* experience hotel monaco seat...  ...  4 experience monaco seattle 4 levelpositives l...\n",
              "3  unique, great stay, wonderful time hotel monac...  ...  unique stay wonderful monaco short stroll main...\n",
              "4  great stay great stay, went seahawk game aweso...  ...  stay seahawk game awesome downfall view buildi...\n",
              "\n",
              "[5 rows x 3 columns]"
            ]
          },
          "metadata": {},
          "execution_count": 27
        }
      ]
    },
    {
      "cell_type": "code",
      "metadata": {
        "colab": {
          "base_uri": "https://localhost:8080/"
        },
        "id": "RmV9zljhpQKv",
        "outputId": "a29b32eb-4f9b-4ea7-b653-112ac49d5651"
      },
      "source": [
        "!pip install vaderSentiment"
      ],
      "execution_count": 28,
      "outputs": [
        {
          "output_type": "stream",
          "name": "stdout",
          "text": [
            "Collecting vaderSentiment\n",
            "  Downloading vaderSentiment-3.3.2-py2.py3-none-any.whl (125 kB)\n",
            "\u001b[?25l\r\u001b[K     |██▋                             | 10 kB 21.5 MB/s eta 0:00:01\r\u001b[K     |█████▏                          | 20 kB 26.8 MB/s eta 0:00:01\r\u001b[K     |███████▉                        | 30 kB 12.9 MB/s eta 0:00:01\r\u001b[K     |██████████▍                     | 40 kB 9.7 MB/s eta 0:00:01\r\u001b[K     |█████████████                   | 51 kB 5.2 MB/s eta 0:00:01\r\u001b[K     |███████████████▋                | 61 kB 5.8 MB/s eta 0:00:01\r\u001b[K     |██████████████████▏             | 71 kB 5.5 MB/s eta 0:00:01\r\u001b[K     |████████████████████▉           | 81 kB 6.2 MB/s eta 0:00:01\r\u001b[K     |███████████████████████▍        | 92 kB 4.7 MB/s eta 0:00:01\r\u001b[K     |██████████████████████████      | 102 kB 5.1 MB/s eta 0:00:01\r\u001b[K     |████████████████████████████▋   | 112 kB 5.1 MB/s eta 0:00:01\r\u001b[K     |███████████████████████████████▏| 122 kB 5.1 MB/s eta 0:00:01\r\u001b[K     |████████████████████████████████| 125 kB 5.1 MB/s \n",
            "\u001b[?25hRequirement already satisfied: requests in /usr/local/lib/python3.7/dist-packages (from vaderSentiment) (2.23.0)\n",
            "Requirement already satisfied: urllib3!=1.25.0,!=1.25.1,<1.26,>=1.21.1 in /usr/local/lib/python3.7/dist-packages (from requests->vaderSentiment) (1.24.3)\n",
            "Requirement already satisfied: idna<3,>=2.5 in /usr/local/lib/python3.7/dist-packages (from requests->vaderSentiment) (2.10)\n",
            "Requirement already satisfied: chardet<4,>=3.0.2 in /usr/local/lib/python3.7/dist-packages (from requests->vaderSentiment) (3.0.4)\n",
            "Requirement already satisfied: certifi>=2017.4.17 in /usr/local/lib/python3.7/dist-packages (from requests->vaderSentiment) (2021.5.30)\n",
            "Installing collected packages: vaderSentiment\n",
            "Successfully installed vaderSentiment-3.3.2\n"
          ]
        }
      ]
    },
    {
      "cell_type": "code",
      "metadata": {
        "id": "DVEgo4TcpM6T"
      },
      "source": [
        "from vaderSentiment.vaderSentiment import SentimentIntensityAnalyzer"
      ],
      "execution_count": 29,
      "outputs": []
    },
    {
      "cell_type": "code",
      "metadata": {
        "id": "hD7fv1fGpUy4"
      },
      "source": [
        "from textblob import TextBlob"
      ],
      "execution_count": 30,
      "outputs": []
    },
    {
      "cell_type": "code",
      "metadata": {
        "id": "uBE2JUu8Ws20"
      },
      "source": [
        "def get_char_count(eachReview):\n",
        "  return len(eachReview)\n",
        "\n",
        "def get_word_count(eachReview):\n",
        "  return len(eachReview.split())  \n",
        "\n",
        "# Sentiments\n",
        "# Vader Sentiment / Text Block Sentiments / Splitting Rating into Sentiments\n",
        "def get_vaderSentiment(eachReview):\n",
        "  analyzer = SentimentIntensityAnalyzer()\n",
        "\n",
        "  # Return the compound sentiment score\n",
        "  return analyzer.polarity_scores(eachReview)['compound']\n",
        "\n",
        "# Textblob Sentiment\n",
        "def get_textblob_sentiment(eachReview):\n",
        "  return TextBlob(eachReview).sentiment.polarity"
      ],
      "execution_count": 31,
      "outputs": []
    },
    {
      "cell_type": "code",
      "metadata": {
        "id": "BB8uuzwQdwcv"
      },
      "source": [
        "data['Char_Count'] = data['Review'].apply(get_char_count)\n",
        "data['Word_Count'] = data['Review'].apply(get_word_count)\n",
        "data['Vader_Sentiment'] = data['Review'].apply(get_vaderSentiment)\n",
        "data['TextBlobSentiment'] = data['Review'].apply(get_textblob_sentiment)"
      ],
      "execution_count": 32,
      "outputs": []
    },
    {
      "cell_type": "code",
      "metadata": {
        "colab": {
          "base_uri": "https://localhost:8080/",
          "height": 466
        },
        "id": "fgh1mNnneeII",
        "outputId": "d8ec526f-38df-412c-86c1-3434dda373ed"
      },
      "source": [
        "data.head()"
      ],
      "execution_count": 33,
      "outputs": [
        {
          "output_type": "execute_result",
          "data": {
            "text/html": [
              "<div>\n",
              "<style scoped>\n",
              "    .dataframe tbody tr th:only-of-type {\n",
              "        vertical-align: middle;\n",
              "    }\n",
              "\n",
              "    .dataframe tbody tr th {\n",
              "        vertical-align: top;\n",
              "    }\n",
              "\n",
              "    .dataframe thead th {\n",
              "        text-align: right;\n",
              "    }\n",
              "</style>\n",
              "<table border=\"1\" class=\"dataframe\">\n",
              "  <thead>\n",
              "    <tr style=\"text-align: right;\">\n",
              "      <th></th>\n",
              "      <th>Review</th>\n",
              "      <th>Rating</th>\n",
              "      <th>Review_Clean_v1</th>\n",
              "      <th>Char_Count</th>\n",
              "      <th>Word_Count</th>\n",
              "      <th>Vader_Sentiment</th>\n",
              "      <th>TextBlobSentiment</th>\n",
              "    </tr>\n",
              "  </thead>\n",
              "  <tbody>\n",
              "    <tr>\n",
              "      <th>0</th>\n",
              "      <td>nice hotel expensive parking got good deal sta...</td>\n",
              "      <td>4</td>\n",
              "      <td>expensive parking deal anniversary arrived lat...</td>\n",
              "      <td>593</td>\n",
              "      <td>87</td>\n",
              "      <td>0.9626</td>\n",
              "      <td>0.208744</td>\n",
              "    </tr>\n",
              "    <tr>\n",
              "      <th>1</th>\n",
              "      <td>ok nothing special charge diamond member hilto...</td>\n",
              "      <td>2</td>\n",
              "      <td>ok nothing special charge diamond member hilto...</td>\n",
              "      <td>1689</td>\n",
              "      <td>250</td>\n",
              "      <td>0.9870</td>\n",
              "      <td>0.214923</td>\n",
              "    </tr>\n",
              "    <tr>\n",
              "      <th>2</th>\n",
              "      <td>nice rooms not 4* experience hotel monaco seat...</td>\n",
              "      <td>3</td>\n",
              "      <td>4 experience monaco seattle 4 levelpositives l...</td>\n",
              "      <td>1427</td>\n",
              "      <td>217</td>\n",
              "      <td>0.9842</td>\n",
              "      <td>0.294420</td>\n",
              "    </tr>\n",
              "    <tr>\n",
              "      <th>3</th>\n",
              "      <td>unique, great stay, wonderful time hotel monac...</td>\n",
              "      <td>5</td>\n",
              "      <td>unique stay wonderful monaco short stroll main...</td>\n",
              "      <td>600</td>\n",
              "      <td>89</td>\n",
              "      <td>0.9920</td>\n",
              "      <td>0.504825</td>\n",
              "    </tr>\n",
              "    <tr>\n",
              "      <th>4</th>\n",
              "      <td>great stay great stay, went seahawk game aweso...</td>\n",
              "      <td>5</td>\n",
              "      <td>stay seahawk game awesome downfall view buildi...</td>\n",
              "      <td>1281</td>\n",
              "      <td>191</td>\n",
              "      <td>0.9870</td>\n",
              "      <td>0.384615</td>\n",
              "    </tr>\n",
              "  </tbody>\n",
              "</table>\n",
              "</div>"
            ],
            "text/plain": [
              "                                              Review  ...  TextBlobSentiment\n",
              "0  nice hotel expensive parking got good deal sta...  ...           0.208744\n",
              "1  ok nothing special charge diamond member hilto...  ...           0.214923\n",
              "2  nice rooms not 4* experience hotel monaco seat...  ...           0.294420\n",
              "3  unique, great stay, wonderful time hotel monac...  ...           0.504825\n",
              "4  great stay great stay, went seahawk game aweso...  ...           0.384615\n",
              "\n",
              "[5 rows x 7 columns]"
            ]
          },
          "metadata": {},
          "execution_count": 33
        }
      ]
    },
    {
      "cell_type": "code",
      "metadata": {
        "id": "w3FaV-l5e81-"
      },
      "source": [
        "# Final Sentiment Score == Combination of (Rating + VadeSentiment + TextBlobSentiment)"
      ],
      "execution_count": 63,
      "outputs": []
    },
    {
      "cell_type": "code",
      "metadata": {
        "colab": {
          "base_uri": "https://localhost:8080/",
          "height": 300
        },
        "id": "BeFbXs7_fP7s",
        "outputId": "2c2d7fde-cba6-48b9-ccfb-6f2310839699"
      },
      "source": [
        "data.describe()"
      ],
      "execution_count": 34,
      "outputs": [
        {
          "output_type": "execute_result",
          "data": {
            "text/html": [
              "<div>\n",
              "<style scoped>\n",
              "    .dataframe tbody tr th:only-of-type {\n",
              "        vertical-align: middle;\n",
              "    }\n",
              "\n",
              "    .dataframe tbody tr th {\n",
              "        vertical-align: top;\n",
              "    }\n",
              "\n",
              "    .dataframe thead th {\n",
              "        text-align: right;\n",
              "    }\n",
              "</style>\n",
              "<table border=\"1\" class=\"dataframe\">\n",
              "  <thead>\n",
              "    <tr style=\"text-align: right;\">\n",
              "      <th></th>\n",
              "      <th>Rating</th>\n",
              "      <th>Char_Count</th>\n",
              "      <th>Word_Count</th>\n",
              "      <th>Vader_Sentiment</th>\n",
              "      <th>TextBlobSentiment</th>\n",
              "    </tr>\n",
              "  </thead>\n",
              "  <tbody>\n",
              "    <tr>\n",
              "      <th>count</th>\n",
              "      <td>20491.000000</td>\n",
              "      <td>20491.000000</td>\n",
              "      <td>20491.000000</td>\n",
              "      <td>20491.000000</td>\n",
              "      <td>20491.000000</td>\n",
              "    </tr>\n",
              "    <tr>\n",
              "      <th>mean</th>\n",
              "      <td>3.952223</td>\n",
              "      <td>724.896833</td>\n",
              "      <td>104.375824</td>\n",
              "      <td>0.809780</td>\n",
              "      <td>0.274278</td>\n",
              "    </tr>\n",
              "    <tr>\n",
              "      <th>std</th>\n",
              "      <td>1.233030</td>\n",
              "      <td>689.101024</td>\n",
              "      <td>100.656586</td>\n",
              "      <td>0.445619</td>\n",
              "      <td>0.181452</td>\n",
              "    </tr>\n",
              "    <tr>\n",
              "      <th>min</th>\n",
              "      <td>1.000000</td>\n",
              "      <td>44.000000</td>\n",
              "      <td>7.000000</td>\n",
              "      <td>-0.997600</td>\n",
              "      <td>-1.000000</td>\n",
              "    </tr>\n",
              "    <tr>\n",
              "      <th>25%</th>\n",
              "      <td>3.000000</td>\n",
              "      <td>339.000000</td>\n",
              "      <td>48.000000</td>\n",
              "      <td>0.921700</td>\n",
              "      <td>0.177426</td>\n",
              "    </tr>\n",
              "    <tr>\n",
              "      <th>50%</th>\n",
              "      <td>4.000000</td>\n",
              "      <td>537.000000</td>\n",
              "      <td>77.000000</td>\n",
              "      <td>0.974400</td>\n",
              "      <td>0.280371</td>\n",
              "    </tr>\n",
              "    <tr>\n",
              "      <th>75%</th>\n",
              "      <td>5.000000</td>\n",
              "      <td>859.000000</td>\n",
              "      <td>124.000000</td>\n",
              "      <td>0.989000</td>\n",
              "      <td>0.384903</td>\n",
              "    </tr>\n",
              "    <tr>\n",
              "      <th>max</th>\n",
              "      <td>5.000000</td>\n",
              "      <td>13501.000000</td>\n",
              "      <td>1931.000000</td>\n",
              "      <td>0.999900</td>\n",
              "      <td>1.000000</td>\n",
              "    </tr>\n",
              "  </tbody>\n",
              "</table>\n",
              "</div>"
            ],
            "text/plain": [
              "             Rating    Char_Count  ...  Vader_Sentiment  TextBlobSentiment\n",
              "count  20491.000000  20491.000000  ...     20491.000000       20491.000000\n",
              "mean       3.952223    724.896833  ...         0.809780           0.274278\n",
              "std        1.233030    689.101024  ...         0.445619           0.181452\n",
              "min        1.000000     44.000000  ...        -0.997600          -1.000000\n",
              "25%        3.000000    339.000000  ...         0.921700           0.177426\n",
              "50%        4.000000    537.000000  ...         0.974400           0.280371\n",
              "75%        5.000000    859.000000  ...         0.989000           0.384903\n",
              "max        5.000000  13501.000000  ...         0.999900           1.000000\n",
              "\n",
              "[8 rows x 5 columns]"
            ]
          },
          "metadata": {},
          "execution_count": 34
        }
      ]
    },
    {
      "cell_type": "code",
      "metadata": {
        "colab": {
          "base_uri": "https://localhost:8080/",
          "height": 175
        },
        "id": "8I35_XWAfSjL",
        "outputId": "905db04b-10f0-495b-a83c-f5b58abacf19"
      },
      "source": [
        "data.describe(include=\"O\")"
      ],
      "execution_count": 35,
      "outputs": [
        {
          "output_type": "execute_result",
          "data": {
            "text/html": [
              "<div>\n",
              "<style scoped>\n",
              "    .dataframe tbody tr th:only-of-type {\n",
              "        vertical-align: middle;\n",
              "    }\n",
              "\n",
              "    .dataframe tbody tr th {\n",
              "        vertical-align: top;\n",
              "    }\n",
              "\n",
              "    .dataframe thead th {\n",
              "        text-align: right;\n",
              "    }\n",
              "</style>\n",
              "<table border=\"1\" class=\"dataframe\">\n",
              "  <thead>\n",
              "    <tr style=\"text-align: right;\">\n",
              "      <th></th>\n",
              "      <th>Review</th>\n",
              "      <th>Review_Clean_v1</th>\n",
              "    </tr>\n",
              "  </thead>\n",
              "  <tbody>\n",
              "    <tr>\n",
              "      <th>count</th>\n",
              "      <td>20491</td>\n",
              "      <td>20491</td>\n",
              "    </tr>\n",
              "    <tr>\n",
              "      <th>unique</th>\n",
              "      <td>20491</td>\n",
              "      <td>20491</td>\n",
              "    </tr>\n",
              "    <tr>\n",
              "      <th>top</th>\n",
              "      <td>good location average hotel particular locatio...</td>\n",
              "      <td>special college daughter vacationed copamarina...</td>\n",
              "    </tr>\n",
              "    <tr>\n",
              "      <th>freq</th>\n",
              "      <td>1</td>\n",
              "      <td>1</td>\n",
              "    </tr>\n",
              "  </tbody>\n",
              "</table>\n",
              "</div>"
            ],
            "text/plain": [
              "                                                   Review                                    Review_Clean_v1\n",
              "count                                               20491                                              20491\n",
              "unique                                              20491                                              20491\n",
              "top     good location average hotel particular locatio...  special college daughter vacationed copamarina...\n",
              "freq                                                    1                                                  1"
            ]
          },
          "metadata": {},
          "execution_count": 35
        }
      ]
    },
    {
      "cell_type": "code",
      "metadata": {
        "id": "O2oFBBZMfXev"
      },
      "source": [
        "# Count Vectorizer & TFIDF Vectorizer\n",
        "\n",
        "from sklearn.feature_extraction.text import CountVectorizer\n",
        "vectorizer = CountVectorizer(max_features=10000, ngram_range=(1, 5))\n",
        "\n",
        "X = vectorizer.fit_transform(data['Review_Clean_v1'])"
      ],
      "execution_count": 36,
      "outputs": []
    },
    {
      "cell_type": "code",
      "metadata": {
        "colab": {
          "base_uri": "https://localhost:8080/"
        },
        "id": "Wxk2LTVgg4Do",
        "outputId": "86d18147-2889-4c62-ee9a-f20f63f7121e"
      },
      "source": [
        "len(vectorizer.vocabulary_.keys())"
      ],
      "execution_count": 37,
      "outputs": [
        {
          "output_type": "execute_result",
          "data": {
            "text/plain": [
              "10000"
            ]
          },
          "metadata": {},
          "execution_count": 37
        }
      ]
    },
    {
      "cell_type": "code",
      "metadata": {
        "colab": {
          "base_uri": "https://localhost:8080/"
        },
        "id": "oSYn9GWYgnj5",
        "outputId": "19c88eaf-f778-43f8-885b-075452ce066c"
      },
      "source": [
        "vectorizer.vocabulary_"
      ],
      "execution_count": 38,
      "outputs": [
        {
          "output_type": "execute_result",
          "data": {
            "text/plain": [
              "{'expensive': 3236,\n",
              " 'parking': 6346,\n",
              " 'deal': 2470,\n",
              " 'anniversary': 593,\n",
              " 'arrived': 692,\n",
              " 'late': 4956,\n",
              " 'evening': 3152,\n",
              " 'took': 8970,\n",
              " 'advice': 428,\n",
              " 'previous': 6783,\n",
              " 'reviews': 7405,\n",
              " 'valet': 9386,\n",
              " 'check': 1797,\n",
              " 'quick': 6967,\n",
              " 'easy': 2938,\n",
              " 'disappointed': 2692,\n",
              " 'nonexistent': 5977,\n",
              " 'view': 9449,\n",
              " 'size': 8054,\n",
              " 'comfortable': 2066,\n",
              " 'woke': 9837,\n",
              " 'stiff': 8454,\n",
              " 'neck': 5844,\n",
              " 'high': 4242,\n",
              " 'pillows': 6532,\n",
              " 'soundproof': 8204,\n",
              " 'heard': 4147,\n",
              " 'music': 5795,\n",
              " 'morning': 5748,\n",
              " 'loud': 5239,\n",
              " 'doors': 2798,\n",
              " 'opening': 6154,\n",
              " 'closing': 1976,\n",
              " 'hear': 4143,\n",
              " 'talking': 8721,\n",
              " 'hallway': 4056,\n",
              " 'maybe': 5507,\n",
              " 'noisy': 5970,\n",
              " 'neighbors': 5876,\n",
              " 'aveda': 812,\n",
              " 'bath': 951,\n",
              " 'products': 6861,\n",
              " 'nice': 5909,\n",
              " 'touch': 9012,\n",
              " 'taken': 8713,\n",
              " 'advantage': 419,\n",
              " 'staying': 8425,\n",
              " 'longer': 5183,\n",
              " 'walking': 9559,\n",
              " 'distance': 2726,\n",
              " 'shopping': 7918,\n",
              " 'overall': 6216,\n",
              " 'experience': 3239,\n",
              " 'having': 4122,\n",
              " 'pay': 6406,\n",
              " '40': 210,\n",
              " 'night': 5919,\n",
              " 'arrived late': 700,\n",
              " 'late evening': 4960,\n",
              " 'took advice': 8980,\n",
              " 'previous reviews': 6788,\n",
              " 'valet parking': 9387,\n",
              " 'check quick': 1805,\n",
              " 'quick easy': 6969,\n",
              " 'size comfortable': 8057,\n",
              " 'bath products': 952,\n",
              " 'walking distance': 9561,\n",
              " 'distance shopping': 2731,\n",
              " 'overall experience': 6218,\n",
              " 'walking distance shopping': 9565,\n",
              " 'ok': 6097,\n",
              " 'nothing': 5998,\n",
              " 'special': 8257,\n",
              " 'charge': 1777,\n",
              " 'diamond': 2615,\n",
              " 'member': 5543,\n",
              " 'hilton': 4280,\n",
              " 'decided': 2487,\n",
              " 'chain': 1747,\n",
              " 'shot': 7948,\n",
              " '20th': 135,\n",
              " 'seattle': 7771,\n",
              " 'start': 8386,\n",
              " 'booked': 1254,\n",
              " 'suite': 8585,\n",
              " 'paid': 6281,\n",
              " 'extra': 3269,\n",
              " 'website': 9691,\n",
              " 'description': 2583,\n",
              " 'not': 5993,\n",
              " 'bedroom': 1045,\n",
              " 'standard': 8362,\n",
              " 'room': 7540,\n",
              " 'printed': 6824,\n",
              " 'reservation': 7311,\n",
              " 'showed': 7954,\n",
              " 'said': 7623,\n",
              " 'things': 8854,\n",
              " 'tv': 9208,\n",
              " 'couch': 2290,\n",
              " 'ect': 2967,\n",
              " 'clerk': 1933,\n",
              " 'told': 8952,\n",
              " 'oh': 6092,\n",
              " 'mixed': 5681,\n",
              " 'suites': 8593,\n",
              " 'kimpton': 4827,\n",
              " 'sorry': 8194,\n",
              " 'free': 3671,\n",
              " 'breakfast': 1350,\n",
              " 'kidding': 4817,\n",
              " 'embassy': 3016,\n",
              " 'suits': 8594,\n",
              " 'sitting': 8045,\n",
              " 'unlike': 9291,\n",
              " 'calls': 1560,\n",
              " 'offer': 6076,\n",
              " 'correct': 2273,\n",
              " 'false': 3337,\n",
              " 'advertising': 427,\n",
              " 'send': 7812,\n",
              " 'preferred': 6746,\n",
              " 'guest': 4027,\n",
              " 'email': 3010,\n",
              " 'asking': 735,\n",
              " 'provide': 6888,\n",
              " 'advertised': 425,\n",
              " 'furnished': 3783,\n",
              " 'hard': 4098,\n",
              " 'copy': 2262,\n",
              " 'manager': 5421,\n",
              " 'duty': 2903,\n",
              " 'reply': 7289,\n",
              " 'solution': 8171,\n",
              " 'follow': 3613,\n",
              " 'mail': 5336,\n",
              " 'guess': 4026,\n",
              " 'tell': 8779,\n",
              " 'concerned': 2148,\n",
              " 'ranged': 7051,\n",
              " 'indifferent': 4592,\n",
              " 'helpful': 4186,\n",
              " 'asked': 724,\n",
              " 'spots': 8320,\n",
              " 'neighborhood': 5873,\n",
              " 'hotels': 4402,\n",
              " '12': 48,\n",
              " 'block': 1212,\n",
              " 'away': 829,\n",
              " 'convenient': 2238,\n",
              " 'does': 2752,\n",
              " 'know': 4857,\n",
              " 'exist': 3217,\n",
              " '11': 36,\n",
              " 'pm': 6638,\n",
              " 'inside': 4632,\n",
              " 'run': 7596,\n",
              " 'bellman': 1092,\n",
              " 'busy': 1494,\n",
              " 'cell': 1712,\n",
              " 'phone': 6489,\n",
              " 'help': 4178,\n",
              " 'arrival': 686,\n",
              " 'emailed': 3012,\n",
              " 'inform': 4610,\n",
              " 'half': 4048,\n",
              " 'picky': 6512,\n",
              " 'wanted': 9609,\n",
              " 'make': 5375,\n",
              " 'sure': 8645,\n",
              " 'good': 3925,\n",
              " 'saying': 7712,\n",
              " 'deliver': 2550,\n",
              " 'bottle': 1307,\n",
              " 'champagne': 1758,\n",
              " 'chocolate': 1855,\n",
              " 'covered': 2329,\n",
              " 'strawberries': 8503,\n",
              " 'celebrate': 1707,\n",
              " 'needed': 5857,\n",
              " 'foam': 3605,\n",
              " 'alley': 524,\n",
              " 'rise': 7478,\n",
              " 'building': 1442,\n",
              " 'better': 1107,\n",
              " 'housekeeping': 4437,\n",
              " 'cleaner': 1919,\n",
              " 'property': 6880,\n",
              " 'impressed': 4549,\n",
              " 'left': 5011,\n",
              " 'short': 7933,\n",
              " 'trips': 9140,\n",
              " 'hours': 4427,\n",
              " 'beds': 1050,\n",
              " 'control': 2231,\n",
              " 'inch': 4558,\n",
              " 'screen': 7742,\n",
              " 'bring': 1372,\n",
              " 'green': 3980,\n",
              " 'shine': 7902,\n",
              " 'directly': 2679,\n",
              " 'eyes': 3296,\n",
              " 'light': 5057,\n",
              " 'sensitive': 7816,\n",
              " 'business': 1477,\n",
              " 'super': 8622,\n",
              " 'rates': 7065,\n",
              " 'ok nothing': 6099,\n",
              " 'nothing special': 6004,\n",
              " 'booked suite': 1278,\n",
              " 'paid extra': 6282,\n",
              " 'standard room': 8364,\n",
              " 'manager duty': 5422,\n",
              " 'helpful asked': 4188,\n",
              " '12 block': 49,\n",
              " 'block away': 1213,\n",
              " 'does know': 2754,\n",
              " '11 pm': 38,\n",
              " 'cell phone': 1713,\n",
              " 'wanted make': 9612,\n",
              " 'make sure': 5393,\n",
              " 'bottle champagne': 1308,\n",
              " 'high rise': 4251,\n",
              " 'chain hotels': 1748,\n",
              " 'ok nothing special': 6100,\n",
              " 'monaco': 5719,\n",
              " 'large': 4920,\n",
              " 'mediterranean': 5529,\n",
              " 'ac': 335,\n",
              " 'unit': 9281,\n",
              " 'disorganized': 2719,\n",
              " 'missed': 5674,\n",
              " 'separate': 7820,\n",
              " 'wakeup': 9548,\n",
              " 'concierge': 2151,\n",
              " 'use': 9345,\n",
              " 'ipod': 4680,\n",
              " 'sound': 8201,\n",
              " 'dock': 2749,\n",
              " 'non': 5972,\n",
              " 'functioning': 3780,\n",
              " 'book': 1251,\n",
              " 'weekend': 9715,\n",
              " '1st': 110,\n",
              " 'choice': 1857,\n",
              " 'rest': 7342,\n",
              " 'party': 6375,\n",
              " 'filled': 3474,\n",
              " 'comparison': 2118,\n",
              " 'spent': 8285,\n",
              " '45': 223,\n",
              " 'larger': 4946,\n",
              " 'square': 8334,\n",
              " 'soaking': 8146,\n",
              " 'tub': 9180,\n",
              " 'whirlpool': 9762,\n",
              " 'jets': 4746,\n",
              " 'arrange': 680,\n",
              " 'car': 1609,\n",
              " 'price': 6790,\n",
              " 'tip': 8927,\n",
              " 'reasonable': 7120,\n",
              " 'driver': 2869,\n",
              " 'waiting': 9539,\n",
              " 'downside': 2818,\n",
              " 'picked': 6506,\n",
              " 'person': 6468,\n",
              " 'bubble': 1402,\n",
              " 'stay': 8421,\n",
              " 'checked': 1810,\n",
              " 'voucher': 9516,\n",
              " 'gesture': 3850,\n",
              " 'fish': 3502,\n",
              " 'impression': 4550,\n",
              " 'huge': 4445,\n",
              " 'open': 6138,\n",
              " 'space': 8222,\n",
              " 'felt': 3442,\n",
              " 'big': 1136,\n",
              " 'far': 3371,\n",
              " 'change': 1764,\n",
              " 'channel': 1770,\n",
              " 'broken': 1387,\n",
              " 'way': 9662,\n",
              " 'thermostat': 8845,\n",
              " 'degrees': 2538,\n",
              " 'warm': 9618,\n",
              " 'try': 9164,\n",
              " 'cover': 2328,\n",
              " 'face': 3303,\n",
              " 'bright': 1368,\n",
              " 'blue': 1229,\n",
              " 'kept': 4805,\n",
              " 'no': 5955,\n",
              " 'drop': 2873,\n",
              " 'desk': 2598,\n",
              " 'called': 1553,\n",
              " 'came': 1564,\n",
              " 'look': 5186,\n",
              " 'play': 6588,\n",
              " 'happy': 4086,\n",
              " 'digital': 2649,\n",
              " 'box': 1327,\n",
              " 'wo': 9833,\n",
              " 'work': 9874,\n",
              " '10am': 30,\n",
              " 'happen': 4080,\n",
              " 'later': 4963,\n",
              " '6pm': 266,\n",
              " 'nap': 5809,\n",
              " 'forgot': 3637,\n",
              " 'facilities': 3310,\n",
              " 'surprised': 8662,\n",
              " 'sold': 8167,\n",
              " 'amenities': 559,\n",
              " 'relax': 7224,\n",
              " 'going': 3908,\n",
              " 'suite comfortable': 8587,\n",
              " 'decided book': 2488,\n",
              " 'soaking tub': 8147,\n",
              " 'bubble bath': 1403,\n",
              " 'far away': 3372,\n",
              " 'bath tub': 957,\n",
              " 'unique': 9280,\n",
              " 'wonderful': 9845,\n",
              " 'stroll': 8530,\n",
              " 'main': 5337,\n",
              " 'downtown': 2821,\n",
              " 'area': 665,\n",
              " 'pet': 6481,\n",
              " 'signs': 8005,\n",
              " 'animal': 582,\n",
              " 'hair': 4043,\n",
              " 'smells': 8115,\n",
              " 'sleeping': 8077,\n",
              " 'curtains': 2404,\n",
              " 'pulled': 6914,\n",
              " 'closed': 1968,\n",
              " 'cosy': 2286,\n",
              " 'named': 5807,\n",
              " 'enjoyed': 3071,\n",
              " 'partake': 6357,\n",
              " 'wine': 9808,\n",
              " 'coffeetea': 2028,\n",
              " 'lobby': 5117,\n",
              " 'thought': 8877,\n",
              " 'feature': 3411,\n",
              " 'friendly': 3742,\n",
              " 'wireless': 9821,\n",
              " 'internet': 4658,\n",
              " 'worked': 9880,\n",
              " 'laptops': 4919,\n",
              " 'decor': 2495,\n",
              " 'lovely': 5263,\n",
              " 'mix': 5680,\n",
              " 'color': 2049,\n",
              " 'print': 6822,\n",
              " 'bathrobes': 962,\n",
              " 'feel': 3421,\n",
              " 'rock': 7511,\n",
              " 'stars': 8385,\n",
              " 'personality': 6472,\n",
              " 'short stroll': 7940,\n",
              " 'shopping area': 7919,\n",
              " 'free wine': 3698,\n",
              " 'free wireless': 3699,\n",
              " 'wireless internet': 9823,\n",
              " 'internet worked': 4669,\n",
              " 'free wireless internet': 3700,\n",
              " 'game': 3803,\n",
              " 'awesome': 839,\n",
              " 'downfall': 2815,\n",
              " 'complain': 2126,\n",
              " 'package': 6267,\n",
              " 'taxi': 8743,\n",
              " 'problem': 6849,\n",
              " 'want': 9586,\n",
              " 'accept': 341,\n",
              " 'barely': 913,\n",
              " 'spoke': 8307,\n",
              " 'english': 3053,\n",
              " 'funny': 3782,\n",
              " 'thing': 8847,\n",
              " 'speak': 8244,\n",
              " 'started': 8390,\n",
              " 'making': 5405,\n",
              " 'comments': 2098,\n",
              " 'girlfriend': 3868,\n",
              " 'second': 7775,\n",
              " 'realize': 7114,\n",
              " 'fact': 3314,\n",
              " 'language': 4914,\n",
              " 'city': 1886,\n",
              " 'head': 4134,\n",
              " 'doorman': 2796,\n",
              " 'issue': 4699,\n",
              " 'cab': 1526,\n",
              " 'company': 2112,\n",
              " 'answer': 598,\n",
              " 'nt': 6022,\n",
              " 'apologized': 623,\n",
              " 'offered': 6078,\n",
              " 'bucks': 1407,\n",
              " 'miles': 5617,\n",
              " 'stadium': 8343,\n",
              " 'plan': 6564,\n",
              " 'return': 7373,\n",
              " 'mind': 5626,\n",
              " 'right': 7449,\n",
              " 'christmas': 1870,\n",
              " 'lights': 5065,\n",
              " 'homeless': 4319,\n",
              " 'leave': 5003,\n",
              " 'police': 6648,\n",
              " 'presence': 6758,\n",
              " 'greatest': 3975,\n",
              " 'activities': 378,\n",
              " 'blocks': 1218,\n",
              " 'pike': 6527,\n",
              " 'street': 8505,\n",
              " 'waterfront': 9656,\n",
              " 'coffee': 2010,\n",
              " 'shops': 7928,\n",
              " 'foyer': 3660,\n",
              " 'tasting': 8739,\n",
              " 'available': 807,\n",
              " 'dog': 2764,\n",
              " 'taking': 8716,\n",
              " 'st': 8338,\n",
              " 'family': 3343,\n",
              " 'safes': 7617,\n",
              " 'located': 5133,\n",
              " 'house': 4433,\n",
              " 'keeping': 4801,\n",
              " 'walked': 9553,\n",
              " 'getting': 3853,\n",
              " 'dressed': 2848,\n",
              " 'knock': 4852,\n",
              " 'doing': 2766,\n",
              " 'turn': 9195,\n",
              " 'service': 7841,\n",
              " 'hit': 4294,\n",
              " 'floor': 3557,\n",
              " 'laughing': 4972,\n",
              " 'spanish': 8235,\n",
              " 'online': 6134,\n",
              " 'deals': 2474,\n",
              " 'contains': 2217,\n",
              " 'vouchers': 9517,\n",
              " 'travel': 9089,\n",
              " 'websites': 9692,\n",
              " 'helpful booked': 4190,\n",
              " 'hotels website': 4414,\n",
              " 'taxi driver': 8746,\n",
              " 'spoke english': 8308,\n",
              " 'speak language': 8248,\n",
              " 'large city': 4925,\n",
              " 'blocks pike': 1220,\n",
              " 'coffee shops': 2024,\n",
              " 'wine tasting': 9812,\n",
              " 'house keeping': 4434,\n",
              " 'love': 5253,\n",
              " 'husband': 4464,\n",
              " 'crazy': 2349,\n",
              " 'attending': 782,\n",
              " 'memorial': 5548,\n",
              " 'friend': 3738,\n",
              " 'celebrating': 1709,\n",
              " '12th': 63,\n",
              " 'wedding': 9694,\n",
              " 'talk': 8719,\n",
              " 'carlos': 1632,\n",
              " 'beautiful': 1006,\n",
              " 'visited': 9502,\n",
              " 'dogs': 2765,\n",
              " 'human': 4453,\n",
              " 'decorated': 2497,\n",
              " 'nicely': 5910,\n",
              " 'used': 9355,\n",
              " 'welcome': 9725,\n",
              " 'sight': 7994,\n",
              " 'quiet': 6973,\n",
              " 'peaceful': 6421,\n",
              " 'access': 344,\n",
              " 'server': 7838,\n",
              " 'leaving': 5008,\n",
              " 'problems': 6853,\n",
              " 'printing': 6826,\n",
              " 'boarding': 1233,\n",
              " 'passes': 6383,\n",
              " 'afternoon': 446,\n",
              " 'reception': 7144,\n",
              " 'serves': 7840,\n",
              " 'australia': 800,\n",
              " 'cookies': 2253,\n",
              " 'renovation': 7262,\n",
              " 'finally': 3482,\n",
              " 'ate': 755,\n",
              " 'drinks': 2858,\n",
              " 'word': 9869,\n",
              " 'caution': 1693,\n",
              " 'sit': 8039,\n",
              " 'fit': 3509,\n",
              " '56': 245,\n",
              " '125': 60,\n",
              " 'table': 8703,\n",
              " 'stomach': 8467,\n",
              " 'couple': 2301,\n",
              " 'inches': 4559,\n",
              " 'uncomfortable': 9253,\n",
              " 'pregnant': 6747,\n",
              " 'bad': 855,\n",
              " 'design': 2591,\n",
              " 'opinion': 6164,\n",
              " 'funky': 3781,\n",
              " 'welcoming': 9728,\n",
              " 'metal': 5573,\n",
              " 'wood': 9867,\n",
              " 'glass': 3881,\n",
              " 'fixtures': 3520,\n",
              " 'expect': 3223,\n",
              " 'capital': 1604,\n",
              " 'art': 707,\n",
              " 'industry': 4600,\n",
              " 'definitely': 2520,\n",
              " 'reason': 7119,\n",
              " 'wedding anniversary': 9695,\n",
              " 'quiet peaceful': 6980,\n",
              " 'internet access': 4659,\n",
              " 'boarding passes': 1235,\n",
              " 'wireless internet access': 9824,\n",
              " 'cozy': 2334,\n",
              " 'rainy': 7040,\n",
              " 'nights': 5926,\n",
              " 'early': 2914,\n",
              " 'january': 4733,\n",
              " '2008': 131,\n",
              " 'chance': 1761,\n",
              " 'come': 2060,\n",
              " 'proved': 6887,\n",
              " 'noise': 5959,\n",
              " 'interesting': 4654,\n",
              " 'office': 6087,\n",
              " 'plenty': 6612,\n",
              " 'spread': 8327,\n",
              " 'attractive': 793,\n",
              " 'generous': 3838,\n",
              " 'areas': 666,\n",
              " 'lots': 5225,\n",
              " 'seating': 7769,\n",
              " 'options': 6174,\n",
              " 'lighting': 5063,\n",
              " 'storage': 8484,\n",
              " 'clothing': 1979,\n",
              " 'luggage': 5293,\n",
              " 'efficient': 2976,\n",
              " 'job': 4752,\n",
              " 'pleasant': 6599,\n",
              " 'requests': 7302,\n",
              " 'responded': 7337,\n",
              " 'quite': 6992,\n",
              " 'market': 5466,\n",
              " 'museum': 5792,\n",
              " 'notch': 5994,\n",
              " 'dining': 2659,\n",
              " 'positive': 6690,\n",
              " 'husband spent': 4476,\n",
              " 'spent nights': 8289,\n",
              " 'located street': 5144,\n",
              " 'street noise': 8512,\n",
              " 'noise problem': 5965,\n",
              " 'plenty storage': 6626,\n",
              " 'quite good': 7002,\n",
              " 'street market': 8509,\n",
              " 'art museum': 709,\n",
              " 'positive experience': 6692,\n",
              " 'husband spent nights': 4477,\n",
              " 'staff': 8344,\n",
              " 'quality': 6946,\n",
              " 'home': 4315,\n",
              " 'experienced': 3247,\n",
              " 'exceptional': 3191,\n",
              " 'door': 2793,\n",
              " 'men': 5552,\n",
              " 'maid': 5333,\n",
              " 'needs': 5863,\n",
              " 'failed': 3320,\n",
              " 'sheets': 7892,\n",
              " 'foot': 3624,\n",
              " 'instance': 4638,\n",
              " 'resolved': 7326,\n",
              " 'employee': 3022,\n",
              " 'reflection': 7186,\n",
              " 'received': 7134,\n",
              " 'regarding': 7202,\n",
              " 'resturants': 7364,\n",
              " 'hour': 4421,\n",
              " 'close': 1950,\n",
              " '5th': 252,\n",
              " 'pioneer': 6542,\n",
              " 'rail': 7030,\n",
              " 'make feel': 5383,\n",
              " 'feel home': 3426,\n",
              " 'happy hour': 4090,\n",
              " 'way make': 9670,\n",
              " 'close shopping': 1960,\n",
              " 'pioneer square': 6543,\n",
              " 'short walking': 7942,\n",
              " 'make feel home': 5384,\n",
              " 'short walking distance': 7943,\n",
              " 'cruise': 2378,\n",
              " 'remodeled': 7252,\n",
              " 'pacific': 6265,\n",
              " 'bell': 1082,\n",
              " 'charm': 1785,\n",
              " 'everytime': 3168,\n",
              " 'coming': 2093,\n",
              " 'secure': 7788,\n",
              " 'single': 8023,\n",
              " 'travelers': 9098,\n",
              " 'fabulous': 3299,\n",
              " 'store': 8486,\n",
              " 'today': 8939,\n",
              " 'bravo': 1343,\n",
              " 'double': 2804,\n",
              " 'separated': 7825,\n",
              " 'curtain': 2403,\n",
              " 'mom': 5712,\n",
              " 'slept': 8079,\n",
              " 'nearby': 5836,\n",
              " 'coming home': 2095,\n",
              " 'pike market': 6528,\n",
              " 'past': 6388,\n",
              " 'delight': 2547,\n",
              " 'professional': 6862,\n",
              " 'smart': 8109,\n",
              " 'bed': 1042,\n",
              " 'particularly': 6367,\n",
              " 'liked': 5067,\n",
              " 'guests': 4029,\n",
              " 'loved': 5255,\n",
              " 'mild': 5614,\n",
              " 'negative': 5864,\n",
              " 'uphill': 9325,\n",
              " 'comfortable bed': 2069,\n",
              " 'poor': 6671,\n",
              " 'value': 9394,\n",
              " 'july': 4777,\n",
              " 'priced': 6800,\n",
              " '100': 20,\n",
              " '150': 83,\n",
              " 'takes': 8715,\n",
              " 'simply': 8017,\n",
              " 'average': 815,\n",
              " 'paying': 6414,\n",
              " '300': 182,\n",
              " 'ca': 1510,\n",
              " 'terribly': 8805,\n",
              " 'wife': 9777,\n",
              " 'nicest': 5915,\n",
              " 'shop': 7916,\n",
              " 'marriott': 5474,\n",
              " 'western': 9743,\n",
              " '2007': 130,\n",
              " 'looked': 5190,\n",
              " 'comparable': 2113,\n",
              " 'westin': 9744,\n",
              " 'gave': 3824,\n",
              " 'pleasantly': 6604,\n",
              " 'tasty': 8740,\n",
              " 'especially': 3122,\n",
              " 'say': 7702,\n",
              " 'relatively': 7220,\n",
              " 'exercise': 3215,\n",
              " 'treadmill': 9111,\n",
              " 'heck': 4167,\n",
              " 'east': 2933,\n",
              " 'coast': 1995,\n",
              " 'ran': 7046,\n",
              " 'days': 2455,\n",
              " 'nights late': 5940,\n",
              " 'pleasantly surprised': 6605,\n",
              " 'positive things': 6695,\n",
              " 'things say': 8857,\n",
              " 'east coast': 2934,\n",
              " 'definitely stay': 2529,\n",
              " 'vibe': 9440,\n",
              " 'fun': 3775,\n",
              " 'young': 9974,\n",
              " 'casual': 1668,\n",
              " 'group': 4011,\n",
              " 'reserved': 7316,\n",
              " 'connecting': 2185,\n",
              " 'fuss': 3789,\n",
              " 'decent': 2482,\n",
              " 'pretty': 6771,\n",
              " 'bathrooms': 965,\n",
              " 'pocket': 6639,\n",
              " 'ideal': 4509,\n",
              " 'bathroom': 964,\n",
              " 'cheery': 1826,\n",
              " 'flat': 3525,\n",
              " 'panel': 6314,\n",
              " 'fine': 3488,\n",
              " 'walkable': 9552,\n",
              " 'attractions': 792,\n",
              " 'new': 5885,\n",
              " 'central': 1721,\n",
              " 'library': 5048,\n",
              " 'sam': 7644,\n",
              " 'concert': 2150,\n",
              " 'hall': 4054,\n",
              " 'steep': 8440,\n",
              " 'popular': 6678,\n",
              " 'decent size': 2484,\n",
              " 'flat panel': 3526,\n",
              " 'panel tv': 6315,\n",
              " '5th floor': 255,\n",
              " 'evening wine': 3158,\n",
              " 'flat panel tv': 3527,\n",
              " 'rude': 7585,\n",
              " 'bellhop': 1090,\n",
              " 'difficult': 2646,\n",
              " 'waited': 9535,\n",
              " 'forever': 3634,\n",
              " 'heavy': 4165,\n",
              " 'bags': 869,\n",
              " 'worst': 9906,\n",
              " 'checking': 1818,\n",
              " 'tap': 8725,\n",
              " 'pick': 6504,\n",
              " '20': 112,\n",
              " 'minutes': 5656,\n",
              " 'noticed': 6012,\n",
              " '1000': 22,\n",
              " 'dollar': 2767,\n",
              " 'hold': 4302,\n",
              " 'credit': 2354,\n",
              " 'card': 1617,\n",
              " 'week': 9703,\n",
              " '4th': 233,\n",
              " 'al': 497,\n",
              " 'faces': 3307,\n",
              " 'tiring': 8934,\n",
              " 'airport': 485,\n",
              " '20 minutes': 119,\n",
              " 'credit card': 2355,\n",
              " 'trip': 9135,\n",
              " 'touches': 9014,\n",
              " 'robe': 7507,\n",
              " 'complaint': 2130,\n",
              " 'wifi': 9785,\n",
              " 'complimentary': 2138,\n",
              " 'center': 1716,\n",
              " 'business trip': 1489,\n",
              " 'business center': 1478,\n",
              " 'horrible': 4361,\n",
              " 'customer': 2408,\n",
              " 'february': 3415,\n",
              " '3rd': 205,\n",
              " 'appealing': 629,\n",
              " 'included': 4565,\n",
              " 'checkout': 1819,\n",
              " 'gift': 3860,\n",
              " 'spa': 8218,\n",
              " 'earlier': 2913,\n",
              " 'man': 5417,\n",
              " 'stood': 8475,\n",
              " 'pull': 6913,\n",
              " 'didnçé': 2628,\n",
              " 'bag': 865,\n",
              " 'suitcase': 8583,\n",
              " 'key': 4809,\n",
              " 'number': 6024,\n",
              " 'says': 7713,\n",
              " 'park': 6338,\n",
              " 'working': 9887,\n",
              " 'gets': 3852,\n",
              " 'oil': 6095,\n",
              " 'lotion': 5223,\n",
              " 'blood': 1223,\n",
              " 'drops': 2876,\n",
              " 'disgusted': 2709,\n",
              " 'unbelievable': 9251,\n",
              " 'sent': 7817,\n",
              " 'somebody': 8174,\n",
              " 'sunday': 8604,\n",
              " 'management': 5420,\n",
              " 'apparently': 627,\n",
              " 'kind': 4828,\n",
              " 'supervisor': 8631,\n",
              " 'wait': 9526,\n",
              " 'monday': 5720,\n",
              " 'adding': 393,\n",
              " 'changed': 1766,\n",
              " 'fresh': 3718,\n",
              " 'tone': 8966,\n",
              " '3pm': 204,\n",
              " '130': 68,\n",
              " 'maids': 5335,\n",
              " 'tried': 9128,\n",
              " 'remind': 7248,\n",
              " 'packed': 6272,\n",
              " 'downstairs': 2820,\n",
              " 'quickly': 6972,\n",
              " 'signed': 8002,\n",
              " 'paper': 6320,\n",
              " 'closer': 1970,\n",
              " 'unfortunately': 9273,\n",
              " 'charged': 1779,\n",
              " 'ask': 719,\n",
              " 'charges': 1780,\n",
              " 'lady': 4892,\n",
              " 'answered': 600,\n",
              " 'aware': 828,\n",
              " 'life': 5052,\n",
              " 'treated': 9115,\n",
              " 'constantly': 2207,\n",
              " 'lucky': 5292,\n",
              " 'ones': 6130,\n",
              " 'anybody': 612,\n",
              " 'package included': 6269,\n",
              " 'late checkout': 4959,\n",
              " 'young man': 9978,\n",
              " 'car park': 1612,\n",
              " 'park car': 6339,\n",
              " 'minutes later': 5661,\n",
              " 'sunday morning': 8605,\n",
              " 'called ask': 1554,\n",
              " 'based': 938,\n",
              " 'seen': 7797,\n",
              " 'tripadvisor': 9136,\n",
              " 'impressive': 4552,\n",
              " 'extremely': 3280,\n",
              " 'polite': 6652,\n",
              " 'bellmen': 1093,\n",
              " 'easily': 2931,\n",
              " 'overlooked': 6238,\n",
              " 'mirror': 5669,\n",
              " 'post': 6700,\n",
              " 'entrance': 3105,\n",
              " 'handle': 4072,\n",
              " 'nearly': 5840,\n",
              " 'falling': 3335,\n",
              " 'flight': 3543,\n",
              " 'midweek': 5609,\n",
              " 'suggested': 8577,\n",
              " 'ride': 7441,\n",
              " 'cost': 2280,\n",
              " 'private': 6837,\n",
              " 'case': 1658,\n",
              " 'knew': 4850,\n",
              " '30': 174,\n",
              " '38': 201,\n",
              " 'insisted': 4635,\n",
              " '65': 260,\n",
              " 'explained': 3251,\n",
              " 'kick': 4814,\n",
              " 'andor': 576,\n",
              " 'looking': 5193,\n",
              " 'years': 9954,\n",
              " 'planned': 6569,\n",
              " 'year': 9947,\n",
              " 'day': 2453,\n",
              " 'dinner': 2664,\n",
              " 'holiday': 4308,\n",
              " 'response': 7338,\n",
              " 'luck': 5289,\n",
              " 'finding': 3486,\n",
              " 'thanks': 8820,\n",
              " 'centre': 1731,\n",
              " 'completely': 2135,\n",
              " 'ended': 3041,\n",
              " 'spending': 8284,\n",
              " '50': 235,\n",
              " 'money': 5721,\n",
              " 'refund': 7195,\n",
              " '25': 155,\n",
              " 'vacation': 9370,\n",
              " 'toll': 8961,\n",
              " 'line': 5077,\n",
              " 'times': 8915,\n",
              " 'assistance': 743,\n",
              " 'majority': 5374,\n",
              " 'attitude': 788,\n",
              " 'care': 1620,\n",
              " 'occasions': 6050,\n",
              " 'caught': 1687,\n",
              " 'girls': 3870,\n",
              " 'turned': 9200,\n",
              " 'frustrating': 3766,\n",
              " 'honesty': 4333,\n",
              " 'end': 3033,\n",
              " 'greet': 3981,\n",
              " 'ignored': 4519,\n",
              " 'unless': 9289,\n",
              " 'approached': 651,\n",
              " 'saw': 7701,\n",
              " 'smiling': 8122,\n",
              " 'based reviews': 940,\n",
              " 'extremely polite': 3292,\n",
              " 'customer service': 2409,\n",
              " 'early morning': 2920,\n",
              " 'morning flight': 5754,\n",
              " 'cab ride': 1529,\n",
              " 'taxi ride': 8748,\n",
              " 'cab driver': 1528,\n",
              " 'new years': 5895,\n",
              " 'new year': 5893,\n",
              " 'business centre': 1479,\n",
              " 'worst experience': 9907,\n",
              " 'needed help': 5858,\n",
              " 'coming going': 2094,\n",
              " 'fantastic': 3356,\n",
              " 'holds': 4305,\n",
              " 'standards': 8366,\n",
              " 'cities': 1885,\n",
              " 'attentive': 784,\n",
              " 'prompt': 6873,\n",
              " 'program': 6868,\n",
              " 'upgraded': 9317,\n",
              " '10th': 34,\n",
              " 'public': 6898,\n",
              " 'highly': 4265,\n",
              " 'tour': 9016,\n",
              " 'blown': 1227,\n",
              " 'spacious': 8225,\n",
              " 'flatscreen': 3531,\n",
              " 'television': 8777,\n",
              " 'player': 6591,\n",
              " 'means': 5517,\n",
              " 'adequate': 401,\n",
              " 'outstanding': 6214,\n",
              " 'cardio': 1618,\n",
              " 'machines': 5320,\n",
              " 'bikes': 1153,\n",
              " 'personal': 6470,\n",
              " 'viewing': 9476,\n",
              " 'screens': 7745,\n",
              " 'machine': 5319,\n",
              " 'dvd': 2906,\n",
              " 'particular': 6366,\n",
              " 'stylish': 8554,\n",
              " 'quirky': 6991,\n",
              " 'inviting': 4678,\n",
              " 'imagine': 4529,\n",
              " 'relaxing': 7228,\n",
              " 'chairs': 1751,\n",
              " 'attached': 773,\n",
              " 'eaten': 2954,\n",
              " 'lunch': 5302,\n",
              " 'forward': 3650,\n",
              " 'tomorrow': 8964,\n",
              " 'properties': 6879,\n",
              " 'able': 309,\n",
              " 'connect': 2183,\n",
              " 'highspeed': 4272,\n",
              " 'ethernet': 3138,\n",
              " 'seconds': 7782,\n",
              " 'web': 9689,\n",
              " 'wrong': 9937,\n",
              " 'certainly': 1743,\n",
              " 'high standards': 4257,\n",
              " '10th floor': 35,\n",
              " 'floor view': 3579,\n",
              " 'blown away': 1228,\n",
              " 'quite spacious': 7017,\n",
              " 'pretty standard': 6780,\n",
              " 'look forward': 5187,\n",
              " 'highspeed internet': 4273,\n",
              " 'ca wrong': 1525,\n",
              " 'recommended': 7161,\n",
              " 'sister': 8035,\n",
              " 'recommendations': 7160,\n",
              " 'restaurants': 7347,\n",
              " 'walk': 9551,\n",
              " 'quiet helpful': 6977,\n",
              " 'hopes': 4356,\n",
              " 'chose': 1866,\n",
              " 'base': 935,\n",
              " 'given': 3871,\n",
              " 'competition': 2124,\n",
              " 'okay': 6102,\n",
              " 'lot': 5210,\n",
              " 'features': 3413,\n",
              " 'bedding': 1044,\n",
              " 'soft': 8161,\n",
              " 'luxurious': 5312,\n",
              " 'comforters': 2088,\n",
              " 'mattress': 5499,\n",
              " 'awake': 825,\n",
              " 'furnishings': 3785,\n",
              " 'colors': 2052,\n",
              " 'chair': 1750,\n",
              " 'rip': 7475,\n",
              " 'wall': 9573,\n",
              " 'peeling': 6428,\n",
              " 'fog': 3609,\n",
              " 'walls': 9576,\n",
              " 'pipes': 6545,\n",
              " ...}"
            ]
          },
          "metadata": {},
          "execution_count": 38
        }
      ]
    },
    {
      "cell_type": "code",
      "metadata": {
        "id": "2Mgy2wQ0lV3V"
      },
      "source": [
        "count_vect_df = pd.DataFrame(X.todense(),columns=vectorizer.get_feature_names())"
      ],
      "execution_count": 39,
      "outputs": []
    },
    {
      "cell_type": "code",
      "metadata": {
        "colab": {
          "base_uri": "https://localhost:8080/",
          "height": 290
        },
        "id": "XHBmiLClmKYr",
        "outputId": "d24d3bbb-55c8-4c5b-dc1e-052c94f73936"
      },
      "source": [
        "count_vect_df.head()"
      ],
      "execution_count": 40,
      "outputs": [
        {
          "output_type": "execute_result",
          "data": {
            "text/html": [
              "<div>\n",
              "<style scoped>\n",
              "    .dataframe tbody tr th:only-of-type {\n",
              "        vertical-align: middle;\n",
              "    }\n",
              "\n",
              "    .dataframe tbody tr th {\n",
              "        vertical-align: top;\n",
              "    }\n",
              "\n",
              "    .dataframe thead th {\n",
              "        text-align: right;\n",
              "    }\n",
              "</style>\n",
              "<table border=\"1\" class=\"dataframe\">\n",
              "  <thead>\n",
              "    <tr style=\"text-align: right;\">\n",
              "      <th></th>\n",
              "      <th>04</th>\n",
              "      <th>05</th>\n",
              "      <th>06</th>\n",
              "      <th>07</th>\n",
              "      <th>08</th>\n",
              "      <th>10</th>\n",
              "      <th>10 15</th>\n",
              "      <th>10 days</th>\n",
              "      <th>10 euro</th>\n",
              "      <th>10 euros</th>\n",
              "      <th>10 min</th>\n",
              "      <th>10 mins</th>\n",
              "      <th>10 minute</th>\n",
              "      <th>10 minutes</th>\n",
              "      <th>10 minutes away</th>\n",
              "      <th>10 nights</th>\n",
              "      <th>10 pm</th>\n",
              "      <th>10 year</th>\n",
              "      <th>10 year old</th>\n",
              "      <th>10 years</th>\n",
              "      <th>100</th>\n",
              "      <th>100 yards</th>\n",
              "      <th>1000</th>\n",
              "      <th>10000</th>\n",
              "      <th>101</th>\n",
              "      <th>1015</th>\n",
              "      <th>1015 minute</th>\n",
              "      <th>1015 minutes</th>\n",
              "      <th>1030</th>\n",
              "      <th>1030pm</th>\n",
              "      <th>10am</th>\n",
              "      <th>10mins</th>\n",
              "      <th>10minute</th>\n",
              "      <th>10pm</th>\n",
              "      <th>10th</th>\n",
              "      <th>10th floor</th>\n",
              "      <th>11</th>\n",
              "      <th>11 days</th>\n",
              "      <th>11 pm</th>\n",
              "      <th>110</th>\n",
              "      <th>...</th>\n",
              "      <th>yellow</th>\n",
              "      <th>yen</th>\n",
              "      <th>yes</th>\n",
              "      <th>yes yes</th>\n",
              "      <th>yesterday</th>\n",
              "      <th>yo</th>\n",
              "      <th>yoga</th>\n",
              "      <th>yoghurt</th>\n",
              "      <th>yoghurts</th>\n",
              "      <th>yogurt</th>\n",
              "      <th>yogurts</th>\n",
              "      <th>york</th>\n",
              "      <th>york city</th>\n",
              "      <th>you</th>\n",
              "      <th>young</th>\n",
              "      <th>young children</th>\n",
              "      <th>young kids</th>\n",
              "      <th>young lady</th>\n",
              "      <th>young man</th>\n",
              "      <th>young woman</th>\n",
              "      <th>younger</th>\n",
              "      <th>youre</th>\n",
              "      <th>youth</th>\n",
              "      <th>youthe</th>\n",
              "      <th>youçéèe</th>\n",
              "      <th>youçéêl</th>\n",
              "      <th>yr</th>\n",
              "      <th>yr old</th>\n",
              "      <th>yrs</th>\n",
              "      <th>yuck</th>\n",
              "      <th>yum</th>\n",
              "      <th>yummy</th>\n",
              "      <th>yunque</th>\n",
              "      <th>zero</th>\n",
              "      <th>zip</th>\n",
              "      <th>zona</th>\n",
              "      <th>zona rosa</th>\n",
              "      <th>zone</th>\n",
              "      <th>zoo</th>\n",
              "      <th>äcor</th>\n",
              "    </tr>\n",
              "  </thead>\n",
              "  <tbody>\n",
              "    <tr>\n",
              "      <th>0</th>\n",
              "      <td>0</td>\n",
              "      <td>0</td>\n",
              "      <td>0</td>\n",
              "      <td>0</td>\n",
              "      <td>0</td>\n",
              "      <td>0</td>\n",
              "      <td>0</td>\n",
              "      <td>0</td>\n",
              "      <td>0</td>\n",
              "      <td>0</td>\n",
              "      <td>0</td>\n",
              "      <td>0</td>\n",
              "      <td>0</td>\n",
              "      <td>0</td>\n",
              "      <td>0</td>\n",
              "      <td>0</td>\n",
              "      <td>0</td>\n",
              "      <td>0</td>\n",
              "      <td>0</td>\n",
              "      <td>0</td>\n",
              "      <td>0</td>\n",
              "      <td>0</td>\n",
              "      <td>0</td>\n",
              "      <td>0</td>\n",
              "      <td>0</td>\n",
              "      <td>0</td>\n",
              "      <td>0</td>\n",
              "      <td>0</td>\n",
              "      <td>0</td>\n",
              "      <td>0</td>\n",
              "      <td>0</td>\n",
              "      <td>0</td>\n",
              "      <td>0</td>\n",
              "      <td>0</td>\n",
              "      <td>0</td>\n",
              "      <td>0</td>\n",
              "      <td>0</td>\n",
              "      <td>0</td>\n",
              "      <td>0</td>\n",
              "      <td>0</td>\n",
              "      <td>...</td>\n",
              "      <td>0</td>\n",
              "      <td>0</td>\n",
              "      <td>0</td>\n",
              "      <td>0</td>\n",
              "      <td>0</td>\n",
              "      <td>0</td>\n",
              "      <td>0</td>\n",
              "      <td>0</td>\n",
              "      <td>0</td>\n",
              "      <td>0</td>\n",
              "      <td>0</td>\n",
              "      <td>0</td>\n",
              "      <td>0</td>\n",
              "      <td>0</td>\n",
              "      <td>0</td>\n",
              "      <td>0</td>\n",
              "      <td>0</td>\n",
              "      <td>0</td>\n",
              "      <td>0</td>\n",
              "      <td>0</td>\n",
              "      <td>0</td>\n",
              "      <td>0</td>\n",
              "      <td>0</td>\n",
              "      <td>0</td>\n",
              "      <td>0</td>\n",
              "      <td>0</td>\n",
              "      <td>0</td>\n",
              "      <td>0</td>\n",
              "      <td>0</td>\n",
              "      <td>0</td>\n",
              "      <td>0</td>\n",
              "      <td>0</td>\n",
              "      <td>0</td>\n",
              "      <td>0</td>\n",
              "      <td>0</td>\n",
              "      <td>0</td>\n",
              "      <td>0</td>\n",
              "      <td>0</td>\n",
              "      <td>0</td>\n",
              "      <td>0</td>\n",
              "    </tr>\n",
              "    <tr>\n",
              "      <th>1</th>\n",
              "      <td>0</td>\n",
              "      <td>0</td>\n",
              "      <td>0</td>\n",
              "      <td>0</td>\n",
              "      <td>0</td>\n",
              "      <td>0</td>\n",
              "      <td>0</td>\n",
              "      <td>0</td>\n",
              "      <td>0</td>\n",
              "      <td>0</td>\n",
              "      <td>0</td>\n",
              "      <td>0</td>\n",
              "      <td>0</td>\n",
              "      <td>0</td>\n",
              "      <td>0</td>\n",
              "      <td>0</td>\n",
              "      <td>0</td>\n",
              "      <td>0</td>\n",
              "      <td>0</td>\n",
              "      <td>0</td>\n",
              "      <td>0</td>\n",
              "      <td>0</td>\n",
              "      <td>0</td>\n",
              "      <td>0</td>\n",
              "      <td>0</td>\n",
              "      <td>0</td>\n",
              "      <td>0</td>\n",
              "      <td>0</td>\n",
              "      <td>0</td>\n",
              "      <td>0</td>\n",
              "      <td>0</td>\n",
              "      <td>0</td>\n",
              "      <td>0</td>\n",
              "      <td>0</td>\n",
              "      <td>0</td>\n",
              "      <td>0</td>\n",
              "      <td>1</td>\n",
              "      <td>0</td>\n",
              "      <td>1</td>\n",
              "      <td>0</td>\n",
              "      <td>...</td>\n",
              "      <td>0</td>\n",
              "      <td>0</td>\n",
              "      <td>0</td>\n",
              "      <td>0</td>\n",
              "      <td>0</td>\n",
              "      <td>0</td>\n",
              "      <td>0</td>\n",
              "      <td>0</td>\n",
              "      <td>0</td>\n",
              "      <td>0</td>\n",
              "      <td>0</td>\n",
              "      <td>0</td>\n",
              "      <td>0</td>\n",
              "      <td>0</td>\n",
              "      <td>0</td>\n",
              "      <td>0</td>\n",
              "      <td>0</td>\n",
              "      <td>0</td>\n",
              "      <td>0</td>\n",
              "      <td>0</td>\n",
              "      <td>0</td>\n",
              "      <td>0</td>\n",
              "      <td>0</td>\n",
              "      <td>0</td>\n",
              "      <td>0</td>\n",
              "      <td>0</td>\n",
              "      <td>0</td>\n",
              "      <td>0</td>\n",
              "      <td>0</td>\n",
              "      <td>0</td>\n",
              "      <td>0</td>\n",
              "      <td>0</td>\n",
              "      <td>0</td>\n",
              "      <td>0</td>\n",
              "      <td>0</td>\n",
              "      <td>0</td>\n",
              "      <td>0</td>\n",
              "      <td>0</td>\n",
              "      <td>0</td>\n",
              "      <td>0</td>\n",
              "    </tr>\n",
              "    <tr>\n",
              "      <th>2</th>\n",
              "      <td>0</td>\n",
              "      <td>0</td>\n",
              "      <td>0</td>\n",
              "      <td>0</td>\n",
              "      <td>0</td>\n",
              "      <td>0</td>\n",
              "      <td>0</td>\n",
              "      <td>0</td>\n",
              "      <td>0</td>\n",
              "      <td>0</td>\n",
              "      <td>0</td>\n",
              "      <td>0</td>\n",
              "      <td>0</td>\n",
              "      <td>0</td>\n",
              "      <td>0</td>\n",
              "      <td>0</td>\n",
              "      <td>0</td>\n",
              "      <td>0</td>\n",
              "      <td>0</td>\n",
              "      <td>0</td>\n",
              "      <td>0</td>\n",
              "      <td>0</td>\n",
              "      <td>0</td>\n",
              "      <td>0</td>\n",
              "      <td>0</td>\n",
              "      <td>0</td>\n",
              "      <td>0</td>\n",
              "      <td>0</td>\n",
              "      <td>0</td>\n",
              "      <td>0</td>\n",
              "      <td>2</td>\n",
              "      <td>0</td>\n",
              "      <td>0</td>\n",
              "      <td>0</td>\n",
              "      <td>0</td>\n",
              "      <td>0</td>\n",
              "      <td>0</td>\n",
              "      <td>0</td>\n",
              "      <td>0</td>\n",
              "      <td>0</td>\n",
              "      <td>...</td>\n",
              "      <td>0</td>\n",
              "      <td>0</td>\n",
              "      <td>0</td>\n",
              "      <td>0</td>\n",
              "      <td>0</td>\n",
              "      <td>0</td>\n",
              "      <td>0</td>\n",
              "      <td>0</td>\n",
              "      <td>0</td>\n",
              "      <td>0</td>\n",
              "      <td>0</td>\n",
              "      <td>0</td>\n",
              "      <td>0</td>\n",
              "      <td>0</td>\n",
              "      <td>0</td>\n",
              "      <td>0</td>\n",
              "      <td>0</td>\n",
              "      <td>0</td>\n",
              "      <td>0</td>\n",
              "      <td>0</td>\n",
              "      <td>0</td>\n",
              "      <td>0</td>\n",
              "      <td>0</td>\n",
              "      <td>0</td>\n",
              "      <td>0</td>\n",
              "      <td>0</td>\n",
              "      <td>0</td>\n",
              "      <td>0</td>\n",
              "      <td>0</td>\n",
              "      <td>0</td>\n",
              "      <td>0</td>\n",
              "      <td>0</td>\n",
              "      <td>0</td>\n",
              "      <td>0</td>\n",
              "      <td>0</td>\n",
              "      <td>0</td>\n",
              "      <td>0</td>\n",
              "      <td>0</td>\n",
              "      <td>0</td>\n",
              "      <td>0</td>\n",
              "    </tr>\n",
              "    <tr>\n",
              "      <th>3</th>\n",
              "      <td>0</td>\n",
              "      <td>0</td>\n",
              "      <td>0</td>\n",
              "      <td>0</td>\n",
              "      <td>0</td>\n",
              "      <td>0</td>\n",
              "      <td>0</td>\n",
              "      <td>0</td>\n",
              "      <td>0</td>\n",
              "      <td>0</td>\n",
              "      <td>0</td>\n",
              "      <td>0</td>\n",
              "      <td>0</td>\n",
              "      <td>0</td>\n",
              "      <td>0</td>\n",
              "      <td>0</td>\n",
              "      <td>0</td>\n",
              "      <td>0</td>\n",
              "      <td>0</td>\n",
              "      <td>0</td>\n",
              "      <td>0</td>\n",
              "      <td>0</td>\n",
              "      <td>0</td>\n",
              "      <td>0</td>\n",
              "      <td>0</td>\n",
              "      <td>0</td>\n",
              "      <td>0</td>\n",
              "      <td>0</td>\n",
              "      <td>0</td>\n",
              "      <td>0</td>\n",
              "      <td>0</td>\n",
              "      <td>0</td>\n",
              "      <td>0</td>\n",
              "      <td>0</td>\n",
              "      <td>0</td>\n",
              "      <td>0</td>\n",
              "      <td>0</td>\n",
              "      <td>0</td>\n",
              "      <td>0</td>\n",
              "      <td>0</td>\n",
              "      <td>...</td>\n",
              "      <td>0</td>\n",
              "      <td>0</td>\n",
              "      <td>0</td>\n",
              "      <td>0</td>\n",
              "      <td>0</td>\n",
              "      <td>0</td>\n",
              "      <td>0</td>\n",
              "      <td>0</td>\n",
              "      <td>0</td>\n",
              "      <td>0</td>\n",
              "      <td>0</td>\n",
              "      <td>0</td>\n",
              "      <td>0</td>\n",
              "      <td>0</td>\n",
              "      <td>0</td>\n",
              "      <td>0</td>\n",
              "      <td>0</td>\n",
              "      <td>0</td>\n",
              "      <td>0</td>\n",
              "      <td>0</td>\n",
              "      <td>0</td>\n",
              "      <td>0</td>\n",
              "      <td>0</td>\n",
              "      <td>0</td>\n",
              "      <td>0</td>\n",
              "      <td>0</td>\n",
              "      <td>0</td>\n",
              "      <td>0</td>\n",
              "      <td>0</td>\n",
              "      <td>0</td>\n",
              "      <td>0</td>\n",
              "      <td>0</td>\n",
              "      <td>0</td>\n",
              "      <td>0</td>\n",
              "      <td>0</td>\n",
              "      <td>0</td>\n",
              "      <td>0</td>\n",
              "      <td>0</td>\n",
              "      <td>0</td>\n",
              "      <td>0</td>\n",
              "    </tr>\n",
              "    <tr>\n",
              "      <th>4</th>\n",
              "      <td>0</td>\n",
              "      <td>0</td>\n",
              "      <td>0</td>\n",
              "      <td>0</td>\n",
              "      <td>0</td>\n",
              "      <td>0</td>\n",
              "      <td>0</td>\n",
              "      <td>0</td>\n",
              "      <td>0</td>\n",
              "      <td>0</td>\n",
              "      <td>0</td>\n",
              "      <td>0</td>\n",
              "      <td>0</td>\n",
              "      <td>0</td>\n",
              "      <td>0</td>\n",
              "      <td>0</td>\n",
              "      <td>0</td>\n",
              "      <td>0</td>\n",
              "      <td>0</td>\n",
              "      <td>0</td>\n",
              "      <td>0</td>\n",
              "      <td>0</td>\n",
              "      <td>0</td>\n",
              "      <td>0</td>\n",
              "      <td>0</td>\n",
              "      <td>0</td>\n",
              "      <td>0</td>\n",
              "      <td>0</td>\n",
              "      <td>0</td>\n",
              "      <td>0</td>\n",
              "      <td>0</td>\n",
              "      <td>0</td>\n",
              "      <td>0</td>\n",
              "      <td>0</td>\n",
              "      <td>0</td>\n",
              "      <td>0</td>\n",
              "      <td>0</td>\n",
              "      <td>0</td>\n",
              "      <td>0</td>\n",
              "      <td>0</td>\n",
              "      <td>...</td>\n",
              "      <td>0</td>\n",
              "      <td>0</td>\n",
              "      <td>0</td>\n",
              "      <td>0</td>\n",
              "      <td>0</td>\n",
              "      <td>0</td>\n",
              "      <td>0</td>\n",
              "      <td>0</td>\n",
              "      <td>0</td>\n",
              "      <td>0</td>\n",
              "      <td>0</td>\n",
              "      <td>0</td>\n",
              "      <td>0</td>\n",
              "      <td>0</td>\n",
              "      <td>0</td>\n",
              "      <td>0</td>\n",
              "      <td>0</td>\n",
              "      <td>0</td>\n",
              "      <td>0</td>\n",
              "      <td>0</td>\n",
              "      <td>0</td>\n",
              "      <td>0</td>\n",
              "      <td>0</td>\n",
              "      <td>0</td>\n",
              "      <td>0</td>\n",
              "      <td>0</td>\n",
              "      <td>0</td>\n",
              "      <td>0</td>\n",
              "      <td>0</td>\n",
              "      <td>0</td>\n",
              "      <td>0</td>\n",
              "      <td>0</td>\n",
              "      <td>0</td>\n",
              "      <td>0</td>\n",
              "      <td>0</td>\n",
              "      <td>0</td>\n",
              "      <td>0</td>\n",
              "      <td>0</td>\n",
              "      <td>0</td>\n",
              "      <td>0</td>\n",
              "    </tr>\n",
              "  </tbody>\n",
              "</table>\n",
              "<p>5 rows × 10000 columns</p>\n",
              "</div>"
            ],
            "text/plain": [
              "   04  05  06  07  08  10  10 15  ...  zero  zip  zona  zona rosa  zone  zoo  äcor\n",
              "0   0   0   0   0   0   0      0  ...     0    0     0          0     0    0     0\n",
              "1   0   0   0   0   0   0      0  ...     0    0     0          0     0    0     0\n",
              "2   0   0   0   0   0   0      0  ...     0    0     0          0     0    0     0\n",
              "3   0   0   0   0   0   0      0  ...     0    0     0          0     0    0     0\n",
              "4   0   0   0   0   0   0      0  ...     0    0     0          0     0    0     0\n",
              "\n",
              "[5 rows x 10000 columns]"
            ]
          },
          "metadata": {},
          "execution_count": 40
        }
      ]
    },
    {
      "cell_type": "code",
      "metadata": {
        "id": "Dr045xzVFsRR"
      },
      "source": [
        "model_data = pd.concat([count_vect_df,data],axis=1)"
      ],
      "execution_count": 41,
      "outputs": []
    },
    {
      "cell_type": "code",
      "metadata": {
        "id": "igvggdGGFv9P"
      },
      "source": [
        "model_data.drop(['Review_Clean_v1','Review'],axis=1,inplace=True)"
      ],
      "execution_count": 42,
      "outputs": []
    },
    {
      "cell_type": "code",
      "metadata": {
        "id": "XIknaUWAFylO"
      },
      "source": [
        "def get_sentiment(rating):\n",
        "  if rating >= 3:\n",
        "    return \"Postive\"\n",
        "  else:\n",
        "    return \"Negative\"\n",
        "\n",
        "model_data['Sentiment'] = model_data['Rating'].apply(get_sentiment)"
      ],
      "execution_count": 43,
      "outputs": []
    },
    {
      "cell_type": "code",
      "metadata": {
        "id": "NbQXSZKwF154"
      },
      "source": [
        "model_data.drop(['Rating'],axis=1,inplace=True)"
      ],
      "execution_count": 44,
      "outputs": []
    },
    {
      "cell_type": "code",
      "metadata": {
        "id": "04PUqQ5qF5gH"
      },
      "source": [
        "model_data.to_csv(\"model_data.csv\")"
      ],
      "execution_count": 45,
      "outputs": []
    },
    {
      "cell_type": "code",
      "metadata": {
        "id": "PEjOFwipF7DF"
      },
      "source": [
        "X = model_data.drop(['Sentiment'],axis=1)\n",
        "y = model_data['Sentiment']\n",
        "from sklearn.model_selection import train_test_split\n",
        "X_train, X_test, y_train, y_test = train_test_split(X, y, test_size=0.20, random_state=42)"
      ],
      "execution_count": 46,
      "outputs": []
    },
    {
      "cell_type": "code",
      "metadata": {
        "colab": {
          "base_uri": "https://localhost:8080/"
        },
        "id": "SvtVZHFcGE73",
        "outputId": "9a23bfb8-0ffe-440d-f65a-e7f32cd44d45"
      },
      "source": [
        "from sklearn.linear_model import LogisticRegression\n",
        "clf = LogisticRegression(random_state=0).fit(X_train, y_train)"
      ],
      "execution_count": 47,
      "outputs": [
        {
          "output_type": "stream",
          "name": "stderr",
          "text": [
            "/usr/local/lib/python3.7/dist-packages/sklearn/linear_model/_logistic.py:940: ConvergenceWarning: lbfgs failed to converge (status=1):\n",
            "STOP: TOTAL NO. of ITERATIONS REACHED LIMIT.\n",
            "\n",
            "Increase the number of iterations (max_iter) or scale the data as shown in:\n",
            "    https://scikit-learn.org/stable/modules/preprocessing.html\n",
            "Please also refer to the documentation for alternative solver options:\n",
            "    https://scikit-learn.org/stable/modules/linear_model.html#logistic-regression\n",
            "  extra_warning_msg=_LOGISTIC_SOLVER_CONVERGENCE_MSG)\n"
          ]
        }
      ]
    },
    {
      "cell_type": "code",
      "metadata": {
        "id": "ldnjOST6GIPv"
      },
      "source": [
        "prediction = clf.predict(X_test)"
      ],
      "execution_count": 48,
      "outputs": []
    },
    {
      "cell_type": "code",
      "metadata": {
        "colab": {
          "base_uri": "https://localhost:8080/"
        },
        "id": "jnrBcNgfGKx1",
        "outputId": "7919b359-4f11-411a-cb97-9fc355f9ec2f"
      },
      "source": [
        "from sklearn.metrics import classification_report\n",
        "print(classification_report(y_test, prediction))"
      ],
      "execution_count": 49,
      "outputs": [
        {
          "output_type": "stream",
          "name": "stdout",
          "text": [
            "              precision    recall  f1-score   support\n",
            "\n",
            "    Negative       0.82      0.69      0.75       625\n",
            "     Postive       0.95      0.97      0.96      3474\n",
            "\n",
            "    accuracy                           0.93      4099\n",
            "   macro avg       0.88      0.83      0.85      4099\n",
            "weighted avg       0.93      0.93      0.93      4099\n",
            "\n"
          ]
        }
      ]
    },
    {
      "cell_type": "code",
      "metadata": {
        "id": "ox_jy0dPvS5N"
      },
      "source": [
        "from nltk.corpus import stopwords"
      ],
      "execution_count": 23,
      "outputs": []
    },
    {
      "cell_type": "code",
      "metadata": {
        "colab": {
          "base_uri": "https://localhost:8080/"
        },
        "id": "lS42tXqwvoBv",
        "outputId": "215bdfce-30ed-4c7d-dc5b-8b188b312c8b"
      },
      "source": [
        "import nltk\n",
        "nltk.download('stopwords')"
      ],
      "execution_count": 24,
      "outputs": [
        {
          "output_type": "stream",
          "name": "stdout",
          "text": [
            "[nltk_data] Downloading package stopwords to /root/nltk_data...\n",
            "[nltk_data]   Unzipping corpora/stopwords.zip.\n"
          ]
        },
        {
          "output_type": "execute_result",
          "data": {
            "text/plain": [
              "True"
            ]
          },
          "metadata": {},
          "execution_count": 24
        }
      ]
    },
    {
      "cell_type": "code",
      "metadata": {
        "id": "n7mFxOWpvk2F"
      },
      "source": [
        "stopwords.words('english')"
      ],
      "execution_count": null,
      "outputs": []
    },
    {
      "cell_type": "code",
      "metadata": {
        "id": "Wqy-rc5AwPDw"
      },
      "source": [
        "eachRow_v1 = \"this is my sentence or review \"\n",
        "word_list = [\"this\",\"is\",\"my\"]"
      ],
      "execution_count": null,
      "outputs": []
    },
    {
      "cell_type": "code",
      "metadata": {
        "colab": {
          "base_uri": "https://localhost:8080/"
        },
        "id": "4hG6pxKdwcPK",
        "outputId": "048cea90-c16d-4843-d9da-6fd6fda58108"
      },
      "source": [
        "eachRow_v1.split()"
      ],
      "execution_count": null,
      "outputs": [
        {
          "output_type": "execute_result",
          "data": {
            "text/plain": [
              "['this', 'is', 'my', 'sentence', 'or', 'review']"
            ]
          },
          "metadata": {},
          "execution_count": 24
        }
      ]
    },
    {
      "cell_type": "code",
      "metadata": {
        "colab": {
          "base_uri": "https://localhost:8080/",
          "height": 35
        },
        "id": "oqBzNjtXxJPF",
        "outputId": "963eb445-b9e9-4ac5-a390-3b46694da7ca"
      },
      "source": [
        "\" \".join(eachRow_v1.split())"
      ],
      "execution_count": null,
      "outputs": [
        {
          "output_type": "execute_result",
          "data": {
            "application/vnd.google.colaboratory.intrinsic+json": {
              "type": "string"
            },
            "text/plain": [
              "'this-is-my-sentence-or-review'"
            ]
          },
          "metadata": {},
          "execution_count": 27
        }
      ]
    },
    {
      "cell_type": "code",
      "metadata": {
        "colab": {
          "base_uri": "https://localhost:8080/"
        },
        "id": "qkkAbI1ow6K2",
        "outputId": "fae47c14-f833-4e02-aed9-da924b47edc6"
      },
      "source": [
        "eachRow_v1 = \"this is my sentence or review \"\n",
        "word_list = eachRow_v1.split()\n",
        "[word for word in word_list if word not in stopwords.words('english')]\n",
        "# this return the review in list of words \n",
        "# this should be returened in Strings"
      ],
      "execution_count": null,
      "outputs": [
        {
          "output_type": "execute_result",
          "data": {
            "text/plain": [
              "['sentence', 'review']"
            ]
          },
          "metadata": {},
          "execution_count": 4
        }
      ]
    },
    {
      "cell_type": "code",
      "metadata": {
        "colab": {
          "base_uri": "https://localhost:8080/"
        },
        "id": "R6vlJN38x2lW",
        "outputId": "6781e66f-4971-42ee-cf3c-be63bd62d7a8"
      },
      "source": [
        "type(stopwords.words('english'))"
      ],
      "execution_count": null,
      "outputs": [
        {
          "output_type": "execute_result",
          "data": {
            "text/plain": [
              "list"
            ]
          },
          "metadata": {},
          "execution_count": 28
        }
      ]
    },
    {
      "cell_type": "code",
      "metadata": {
        "colab": {
          "base_uri": "https://localhost:8080/"
        },
        "id": "5jhZ98U_zrkt",
        "outputId": "2e37707c-c3aa-41f5-a3fd-8d1dad1142f0"
      },
      "source": [
        "data['Review'].str.split()"
      ],
      "execution_count": null,
      "outputs": [
        {
          "output_type": "execute_result",
          "data": {
            "text/plain": [
              "0        [nice, hotel, expensive, parking, got, good, d...\n",
              "1        [ok, nothing, special, charge, diamond, member...\n",
              "2        [nice, rooms, not, 4*, experience, hotel, mona...\n",
              "3        [unique,, great, stay,, wonderful, time, hotel...\n",
              "4        [great, stay, great, stay,, went, seahawk, gam...\n",
              "                               ...                        \n",
              "20486    [best, kept, secret, 3rd, time, staying, charm...\n",
              "20487    [great, location, price, view, hotel, great, q...\n",
              "20488    [ok, just, looks, nice, modern, outside,, desk...\n",
              "20489    [hotel, theft, ruined, vacation, hotel, opened...\n",
              "20490    [people, talking,, ca, n't, believe, excellent...\n",
              "Name: Review, Length: 20491, dtype: object"
            ]
          },
          "metadata": {},
          "execution_count": 41
        }
      ]
    },
    {
      "cell_type": "code",
      "metadata": {
        "id": "J4y9PXtIzwbJ"
      },
      "source": [
        "# Append (List)\n",
        "# Extend (List)\n"
      ],
      "execution_count": null,
      "outputs": []
    },
    {
      "cell_type": "code",
      "metadata": {
        "id": "rrBFBIaPzP8z"
      },
      "source": [
        "# to create global list of words like a list of workds from all words in datasets\n",
        "word_list = []\n",
        "for eachList in data['Review'].str.split():\n",
        "  word_list.extend(eachList)"
      ],
      "execution_count": null,
      "outputs": []
    },
    {
      "cell_type": "code",
      "metadata": {
        "id": "yZIe9Sw_0IDY"
      },
      "source": [
        "from collections import Counter\n",
        "# Counter(word_list).most_common(50)\n",
        "most_common_words = [word for word,count in Counter(word_list).most_common(50)]\n",
        "# Top 50 Words \n",
        "# Bottom 50 Words "
      ],
      "execution_count": null,
      "outputs": []
    },
    {
      "cell_type": "code",
      "metadata": {
        "id": "qi5PEQVE0n1b"
      },
      "source": [
        "# Least 50 Words in the datasets \n",
        "# Counter(word_list).most_common()[-50:]\n",
        "# [\"neutralizer\",\"aerate\"]\n",
        "least_words = [word for word,count in Counter(word_list).most_common()[-50:]]"
      ],
      "execution_count": null,
      "outputs": []
    },
    {
      "cell_type": "code",
      "metadata": {
        "id": "tCLG9p60yx9B"
      },
      "source": [
        "# Count the Frequency of the words that we have in overall dataset \n",
        "# Find Positive & Negative Words"
      ],
      "execution_count": null,
      "outputs": []
    },
    {
      "cell_type": "code",
      "metadata": {
        "id": "fd_9RNHEx4SM"
      },
      "source": [
        "def get_removeStoWord(sentence, word_list_to_remove):\n",
        "  word_list = sentence.split()\n",
        "  sentence_stopword_removel = [word for word in word_list if word not in word_list_to_remove] # standard stop work list\n",
        "  return \" \".join(sentence_stopword_removel)"
      ],
      "execution_count": null,
      "outputs": []
    },
    {
      "cell_type": "code",
      "metadata": {
        "id": "_bbQiIgor4De"
      },
      "source": [
        "# Apply Function \n",
        "import string\n",
        "\n",
        "def get_clean(eachRow): # parameter -- is single row value\n",
        "\n",
        "  # Convert Everything to LowerCase\n",
        "  eachRow_v1 = eachRow.lower()\n",
        "\n",
        "  # Remove the stop words \n",
        "  # List Comprehension \n",
        "  # We would like to do Custom Stop Word Removal\n",
        "  custom_stopwords = []\n",
        "  # custome_punctuations = [\"*\",\",\",\".\"]\n",
        "  custom_stopwords.extend(most_common_words)\n",
        "  custom_stopwords.extend(least_words)\n",
        "  # custom_stopwords.extend(custome_punctuations)\n",
        "  eachRow_v2 = get_removeStoWord(eachRow_v1, custom_stopwords)\n",
        "\n",
        "  # Removing the punctuation\n",
        "  eachRow_v3 = eachRow_v2.translate(str.maketrans('', '', string.punctuation))\n",
        "\n",
        "\n",
        "  #eachRow_v1 = eachRow['Review'].lower()\n",
        "  # print(eachRow_v1)\n",
        "  return eachRow_v3"
      ],
      "execution_count": null,
      "outputs": []
    },
    {
      "cell_type": "code",
      "metadata": {
        "id": "ovlqItAzup7C"
      },
      "source": [
        "# Two Approached to Remove StopWords \n",
        "    # Standard English Stop Words -- (NLTK & SPacy)\n",
        "    # Custom or Domain Stopwords ----> (Hotel,)\n",
        "    # we should remove NOT (Exclude Or Include)"
      ],
      "execution_count": null,
      "outputs": []
    },
    {
      "cell_type": "code",
      "metadata": {
        "id": "0p01NjSjr53n"
      },
      "source": [
        "# if your transformation invovles single row change, use this \n",
        "data['Review_Clean_v1'] = data['Review'].apply(get_clean) # axis & transforamtion are happening on Row Level. \n",
        "\n",
        "# if your transfaormation requires multiple columns for a change in value, use this\n",
        "# if column1 > 10 and column 3 <20, then return \"Good\"\n",
        "# data.apply(get_clean, axis=1)# axis and operations are happening on Column Leve "
      ],
      "execution_count": null,
      "outputs": []
    },
    {
      "cell_type": "code",
      "metadata": {
        "colab": {
          "base_uri": "https://localhost:8080/",
          "height": 204
        },
        "id": "QBMS7kEP3vEW",
        "outputId": "bedc299e-2ae9-453a-a300-62af943b0d5f"
      },
      "source": [
        "data.head()"
      ],
      "execution_count": null,
      "outputs": [
        {
          "output_type": "execute_result",
          "data": {
            "text/html": [
              "<div>\n",
              "<style scoped>\n",
              "    .dataframe tbody tr th:only-of-type {\n",
              "        vertical-align: middle;\n",
              "    }\n",
              "\n",
              "    .dataframe tbody tr th {\n",
              "        vertical-align: top;\n",
              "    }\n",
              "\n",
              "    .dataframe thead th {\n",
              "        text-align: right;\n",
              "    }\n",
              "</style>\n",
              "<table border=\"1\" class=\"dataframe\">\n",
              "  <thead>\n",
              "    <tr style=\"text-align: right;\">\n",
              "      <th></th>\n",
              "      <th>Review</th>\n",
              "      <th>Rating</th>\n",
              "      <th>Review_Clean_v1</th>\n",
              "    </tr>\n",
              "  </thead>\n",
              "  <tbody>\n",
              "    <tr>\n",
              "      <th>0</th>\n",
              "      <td>nice hotel expensive parking got good deal sta...</td>\n",
              "      <td>4</td>\n",
              "      <td>expensive parking deal anniversary arrived lat...</td>\n",
              "    </tr>\n",
              "    <tr>\n",
              "      <th>1</th>\n",
              "      <td>ok nothing special charge diamond member hilto...</td>\n",
              "      <td>2</td>\n",
              "      <td>ok nothing special charge diamond member hilto...</td>\n",
              "    </tr>\n",
              "    <tr>\n",
              "      <th>2</th>\n",
              "      <td>nice rooms not 4* experience hotel monaco seat...</td>\n",
              "      <td>3</td>\n",
              "      <td>4 experience monaco seattle 4 levelpositives l...</td>\n",
              "    </tr>\n",
              "    <tr>\n",
              "      <th>3</th>\n",
              "      <td>unique, great stay, wonderful time hotel monac...</td>\n",
              "      <td>5</td>\n",
              "      <td>unique stay wonderful monaco short stroll main...</td>\n",
              "    </tr>\n",
              "    <tr>\n",
              "      <th>4</th>\n",
              "      <td>great stay great stay, went seahawk game aweso...</td>\n",
              "      <td>5</td>\n",
              "      <td>stay seahawk game awesome downfall view buildi...</td>\n",
              "    </tr>\n",
              "  </tbody>\n",
              "</table>\n",
              "</div>"
            ],
            "text/plain": [
              "                                              Review  ...                                    Review_Clean_v1\n",
              "0  nice hotel expensive parking got good deal sta...  ...  expensive parking deal anniversary arrived lat...\n",
              "1  ok nothing special charge diamond member hilto...  ...  ok nothing special charge diamond member hilto...\n",
              "2  nice rooms not 4* experience hotel monaco seat...  ...  4 experience monaco seattle 4 levelpositives l...\n",
              "3  unique, great stay, wonderful time hotel monac...  ...  unique stay wonderful monaco short stroll main...\n",
              "4  great stay great stay, went seahawk game aweso...  ...  stay seahawk game awesome downfall view buildi...\n",
              "\n",
              "[5 rows x 3 columns]"
            ]
          },
          "metadata": {},
          "execution_count": 71
        }
      ]
    },
    {
      "cell_type": "code",
      "metadata": {
        "id": "OsfBDiRg32Bp"
      },
      "source": [
        "# Addign Features \n",
        "\n",
        "from vaderSentiment.vaderSentiment import SentimentIntensityAnalyzer\n",
        "analyzer = SentimentIntensityAnalyzer()\n",
        "from textblob import TextBlob\n",
        "\n",
        "def get_char_count(eachReview):\n",
        "  return len(eachReview)\n",
        "\n",
        "def get_word_count(eachReview):\n",
        "  return len(eachReview.split())\n",
        "\n",
        "def get_vadersentiment(eachReview):\n",
        "  # Data Structure Problem \n",
        "  # Return the proper value of compound\n",
        "  return analyzer.polarity_scores(eachReview)['compound']\n",
        "\n",
        "def get_textblob_sentiment(eachReview):\n",
        "  return TextBlob(eachReview).sentiment.polarity\n",
        "\n",
        "# Sentiments \n",
        "# Vader Sentiments \n",
        "# TextBlob \n",
        "# Splitting Rating into Sentiments "
      ],
      "execution_count": null,
      "outputs": []
    },
    {
      "cell_type": "code",
      "metadata": {
        "id": "CqMw9j_I5OHo"
      },
      "source": [
        "# Please do this before cleaning\n",
        "data['Char_Count'] = data['Review'].apply(get_char_count)\n",
        "data['Word_Count'] = data['Review'].apply(get_word_count)\n",
        "data['VaderSentiment'] = data['Review'].apply(get_vadersentiment)\n",
        "data['TextBlobSentiment'] = data['Review'].apply(get_textblob_sentiment)"
      ],
      "execution_count": null,
      "outputs": []
    },
    {
      "cell_type": "code",
      "metadata": {
        "colab": {
          "base_uri": "https://localhost:8080/",
          "height": 204
        },
        "id": "D0aMGr0X5eQN",
        "outputId": "31a46d71-1d5d-417e-abaf-7177cb91e86d"
      },
      "source": [
        "data.head()"
      ],
      "execution_count": null,
      "outputs": [
        {
          "output_type": "execute_result",
          "data": {
            "text/html": [
              "<div>\n",
              "<style scoped>\n",
              "    .dataframe tbody tr th:only-of-type {\n",
              "        vertical-align: middle;\n",
              "    }\n",
              "\n",
              "    .dataframe tbody tr th {\n",
              "        vertical-align: top;\n",
              "    }\n",
              "\n",
              "    .dataframe thead th {\n",
              "        text-align: right;\n",
              "    }\n",
              "</style>\n",
              "<table border=\"1\" class=\"dataframe\">\n",
              "  <thead>\n",
              "    <tr style=\"text-align: right;\">\n",
              "      <th></th>\n",
              "      <th>Review</th>\n",
              "      <th>Rating</th>\n",
              "      <th>Review_Clean_v1</th>\n",
              "      <th>Char_Count</th>\n",
              "      <th>Word_Count</th>\n",
              "      <th>VaderSentiment</th>\n",
              "      <th>TextBlobSentiment</th>\n",
              "    </tr>\n",
              "  </thead>\n",
              "  <tbody>\n",
              "    <tr>\n",
              "      <th>0</th>\n",
              "      <td>nice hotel expensive parking got good deal sta...</td>\n",
              "      <td>4</td>\n",
              "      <td>expensive parking deal anniversary arrived lat...</td>\n",
              "      <td>593</td>\n",
              "      <td>87</td>\n",
              "      <td>0.9626</td>\n",
              "      <td>0.208744</td>\n",
              "    </tr>\n",
              "    <tr>\n",
              "      <th>1</th>\n",
              "      <td>ok nothing special charge diamond member hilto...</td>\n",
              "      <td>2</td>\n",
              "      <td>ok nothing special charge diamond member hilto...</td>\n",
              "      <td>1689</td>\n",
              "      <td>250</td>\n",
              "      <td>0.9870</td>\n",
              "      <td>0.214923</td>\n",
              "    </tr>\n",
              "    <tr>\n",
              "      <th>2</th>\n",
              "      <td>nice rooms not 4* experience hotel monaco seat...</td>\n",
              "      <td>3</td>\n",
              "      <td>4 experience monaco seattle 4 levelpositives l...</td>\n",
              "      <td>1427</td>\n",
              "      <td>217</td>\n",
              "      <td>0.9842</td>\n",
              "      <td>0.294420</td>\n",
              "    </tr>\n",
              "    <tr>\n",
              "      <th>3</th>\n",
              "      <td>unique, great stay, wonderful time hotel monac...</td>\n",
              "      <td>5</td>\n",
              "      <td>unique stay wonderful monaco short stroll main...</td>\n",
              "      <td>600</td>\n",
              "      <td>89</td>\n",
              "      <td>0.9920</td>\n",
              "      <td>0.504825</td>\n",
              "    </tr>\n",
              "    <tr>\n",
              "      <th>4</th>\n",
              "      <td>great stay great stay, went seahawk game aweso...</td>\n",
              "      <td>5</td>\n",
              "      <td>stay seahawk game awesome downfall view buildi...</td>\n",
              "      <td>1281</td>\n",
              "      <td>191</td>\n",
              "      <td>0.9870</td>\n",
              "      <td>0.384615</td>\n",
              "    </tr>\n",
              "  </tbody>\n",
              "</table>\n",
              "</div>"
            ],
            "text/plain": [
              "                                              Review  ...  TextBlobSentiment\n",
              "0  nice hotel expensive parking got good deal sta...  ...           0.208744\n",
              "1  ok nothing special charge diamond member hilto...  ...           0.214923\n",
              "2  nice rooms not 4* experience hotel monaco seat...  ...           0.294420\n",
              "3  unique, great stay, wonderful time hotel monac...  ...           0.504825\n",
              "4  great stay great stay, went seahawk game aweso...  ...           0.384615\n",
              "\n",
              "[5 rows x 7 columns]"
            ]
          },
          "metadata": {},
          "execution_count": 12
        }
      ]
    },
    {
      "cell_type": "code",
      "metadata": {
        "id": "arvOTFcn7eIy"
      },
      "source": [
        "# Final Sentiment Score === Score or COmbination of (Rating + VaderSentiment + TextBlobSentiment)"
      ],
      "execution_count": null,
      "outputs": []
    },
    {
      "cell_type": "code",
      "metadata": {
        "colab": {
          "base_uri": "https://localhost:8080/",
          "height": 297
        },
        "id": "jXbEogwE7s8S",
        "outputId": "d3cfb0bf-9856-420b-da5d-0a44b52c9647"
      },
      "source": [
        "data.describe()"
      ],
      "execution_count": null,
      "outputs": [
        {
          "output_type": "execute_result",
          "data": {
            "text/html": [
              "<div>\n",
              "<style scoped>\n",
              "    .dataframe tbody tr th:only-of-type {\n",
              "        vertical-align: middle;\n",
              "    }\n",
              "\n",
              "    .dataframe tbody tr th {\n",
              "        vertical-align: top;\n",
              "    }\n",
              "\n",
              "    .dataframe thead th {\n",
              "        text-align: right;\n",
              "    }\n",
              "</style>\n",
              "<table border=\"1\" class=\"dataframe\">\n",
              "  <thead>\n",
              "    <tr style=\"text-align: right;\">\n",
              "      <th></th>\n",
              "      <th>Rating</th>\n",
              "      <th>Char_Count</th>\n",
              "      <th>Word_Count</th>\n",
              "      <th>VaderSentiment</th>\n",
              "      <th>TextBlobSentiment</th>\n",
              "    </tr>\n",
              "  </thead>\n",
              "  <tbody>\n",
              "    <tr>\n",
              "      <th>count</th>\n",
              "      <td>20491.000000</td>\n",
              "      <td>20491.000000</td>\n",
              "      <td>20491.000000</td>\n",
              "      <td>20491.000000</td>\n",
              "      <td>20491.000000</td>\n",
              "    </tr>\n",
              "    <tr>\n",
              "      <th>mean</th>\n",
              "      <td>3.952223</td>\n",
              "      <td>724.896833</td>\n",
              "      <td>104.375824</td>\n",
              "      <td>0.809780</td>\n",
              "      <td>0.274278</td>\n",
              "    </tr>\n",
              "    <tr>\n",
              "      <th>std</th>\n",
              "      <td>1.233030</td>\n",
              "      <td>689.101024</td>\n",
              "      <td>100.656586</td>\n",
              "      <td>0.445619</td>\n",
              "      <td>0.181452</td>\n",
              "    </tr>\n",
              "    <tr>\n",
              "      <th>min</th>\n",
              "      <td>1.000000</td>\n",
              "      <td>44.000000</td>\n",
              "      <td>7.000000</td>\n",
              "      <td>-0.997600</td>\n",
              "      <td>-1.000000</td>\n",
              "    </tr>\n",
              "    <tr>\n",
              "      <th>25%</th>\n",
              "      <td>3.000000</td>\n",
              "      <td>339.000000</td>\n",
              "      <td>48.000000</td>\n",
              "      <td>0.921700</td>\n",
              "      <td>0.177426</td>\n",
              "    </tr>\n",
              "    <tr>\n",
              "      <th>50%</th>\n",
              "      <td>4.000000</td>\n",
              "      <td>537.000000</td>\n",
              "      <td>77.000000</td>\n",
              "      <td>0.974400</td>\n",
              "      <td>0.280371</td>\n",
              "    </tr>\n",
              "    <tr>\n",
              "      <th>75%</th>\n",
              "      <td>5.000000</td>\n",
              "      <td>859.000000</td>\n",
              "      <td>124.000000</td>\n",
              "      <td>0.989000</td>\n",
              "      <td>0.384903</td>\n",
              "    </tr>\n",
              "    <tr>\n",
              "      <th>max</th>\n",
              "      <td>5.000000</td>\n",
              "      <td>13501.000000</td>\n",
              "      <td>1931.000000</td>\n",
              "      <td>0.999900</td>\n",
              "      <td>1.000000</td>\n",
              "    </tr>\n",
              "  </tbody>\n",
              "</table>\n",
              "</div>"
            ],
            "text/plain": [
              "             Rating    Char_Count  ...  VaderSentiment  TextBlobSentiment\n",
              "count  20491.000000  20491.000000  ...    20491.000000       20491.000000\n",
              "mean       3.952223    724.896833  ...        0.809780           0.274278\n",
              "std        1.233030    689.101024  ...        0.445619           0.181452\n",
              "min        1.000000     44.000000  ...       -0.997600          -1.000000\n",
              "25%        3.000000    339.000000  ...        0.921700           0.177426\n",
              "50%        4.000000    537.000000  ...        0.974400           0.280371\n",
              "75%        5.000000    859.000000  ...        0.989000           0.384903\n",
              "max        5.000000  13501.000000  ...        0.999900           1.000000\n",
              "\n",
              "[8 rows x 5 columns]"
            ]
          },
          "metadata": {},
          "execution_count": 13
        }
      ]
    },
    {
      "cell_type": "code",
      "metadata": {
        "colab": {
          "base_uri": "https://localhost:8080/",
          "height": 173
        },
        "id": "V8y4cQAO7s1L",
        "outputId": "128719c5-da47-4627-f955-638acd61d5ec"
      },
      "source": [
        "data.describe(include=\"O\")"
      ],
      "execution_count": null,
      "outputs": [
        {
          "output_type": "execute_result",
          "data": {
            "text/html": [
              "<div>\n",
              "<style scoped>\n",
              "    .dataframe tbody tr th:only-of-type {\n",
              "        vertical-align: middle;\n",
              "    }\n",
              "\n",
              "    .dataframe tbody tr th {\n",
              "        vertical-align: top;\n",
              "    }\n",
              "\n",
              "    .dataframe thead th {\n",
              "        text-align: right;\n",
              "    }\n",
              "</style>\n",
              "<table border=\"1\" class=\"dataframe\">\n",
              "  <thead>\n",
              "    <tr style=\"text-align: right;\">\n",
              "      <th></th>\n",
              "      <th>Review</th>\n",
              "      <th>Review_Clean_v1</th>\n",
              "    </tr>\n",
              "  </thead>\n",
              "  <tbody>\n",
              "    <tr>\n",
              "      <th>count</th>\n",
              "      <td>20491</td>\n",
              "      <td>20491</td>\n",
              "    </tr>\n",
              "    <tr>\n",
              "      <th>unique</th>\n",
              "      <td>20491</td>\n",
              "      <td>20491</td>\n",
              "    </tr>\n",
              "    <tr>\n",
              "      <th>top</th>\n",
              "      <td>forget negatives, wife 45 spent week starting ...</td>\n",
              "      <td>westin visit westin lovely great cool modern l...</td>\n",
              "    </tr>\n",
              "    <tr>\n",
              "      <th>freq</th>\n",
              "      <td>1</td>\n",
              "      <td>1</td>\n",
              "    </tr>\n",
              "  </tbody>\n",
              "</table>\n",
              "</div>"
            ],
            "text/plain": [
              "                                                   Review                                    Review_Clean_v1\n",
              "count                                               20491                                              20491\n",
              "unique                                              20491                                              20491\n",
              "top     forget negatives, wife 45 spent week starting ...  westin visit westin lovely great cool modern l...\n",
              "freq                                                    1                                                  1"
            ]
          },
          "metadata": {},
          "execution_count": 87
        }
      ]
    },
    {
      "cell_type": "code",
      "metadata": {
        "id": "mLXatDV377go"
      },
      "source": [
        "# CountVEcotrizer & TFIDF Vecotrizer \n",
        "from sklearn.feature_extraction.text import CountVectorizer\n",
        "vectorizer = CountVectorizer(max_features=10000,ngram_range=(1, 5))\n",
        "X = vectorizer.fit_transform(data['Review_Clean_v1'])"
      ],
      "execution_count": null,
      "outputs": []
    },
    {
      "cell_type": "code",
      "metadata": {
        "id": "EZNTZ9Cy-jNz"
      },
      "source": [
        "# NGRAM Logic -- It retains the context\n",
        "\"I love India and Data Science\"\n",
        "1Gram \n",
        "\"I\"\n",
        "\"Love\"\n",
        "\"India\"\n",
        "2Gram \n",
        "\"I Love\"\n",
        "\"Love India\"\n",
        "\"India and\"\n",
        "3Gram \n",
        "\"I Love India\"\n",
        "\"India and Data\""
      ],
      "execution_count": null,
      "outputs": []
    },
    {
      "cell_type": "code",
      "metadata": {
        "colab": {
          "base_uri": "https://localhost:8080/"
        },
        "id": "f-oIojPH8tOU",
        "outputId": "6e33d783-6884-4649-abc2-18e72679cb80"
      },
      "source": [
        "len(vectorizer.vocabulary_.keys())"
      ],
      "execution_count": null,
      "outputs": [
        {
          "output_type": "execute_result",
          "data": {
            "text/plain": [
              "10000"
            ]
          },
          "metadata": {},
          "execution_count": 22
        }
      ]
    },
    {
      "cell_type": "code",
      "metadata": {
        "id": "gYyoJ7Yu9FVC"
      },
      "source": [
        "count_vect_df = pd.DataFrame(X.todense(), columns=vectorizer.get_feature_names())"
      ],
      "execution_count": null,
      "outputs": []
    },
    {
      "cell_type": "code",
      "metadata": {
        "colab": {
          "base_uri": "https://localhost:8080/",
          "height": 287
        },
        "id": "_oiZXGAD9iy_",
        "outputId": "f15a88f8-da45-480e-ecc4-f9234fde42e1"
      },
      "source": [
        "count_vect_df.head(5)"
      ],
      "execution_count": null,
      "outputs": [
        {
          "output_type": "execute_result",
          "data": {
            "text/html": [
              "<div>\n",
              "<style scoped>\n",
              "    .dataframe tbody tr th:only-of-type {\n",
              "        vertical-align: middle;\n",
              "    }\n",
              "\n",
              "    .dataframe tbody tr th {\n",
              "        vertical-align: top;\n",
              "    }\n",
              "\n",
              "    .dataframe thead th {\n",
              "        text-align: right;\n",
              "    }\n",
              "</style>\n",
              "<table border=\"1\" class=\"dataframe\">\n",
              "  <thead>\n",
              "    <tr style=\"text-align: right;\">\n",
              "      <th></th>\n",
              "      <th>04</th>\n",
              "      <th>05</th>\n",
              "      <th>06</th>\n",
              "      <th>07</th>\n",
              "      <th>08</th>\n",
              "      <th>10</th>\n",
              "      <th>10 15</th>\n",
              "      <th>10 days</th>\n",
              "      <th>10 euro</th>\n",
              "      <th>10 euros</th>\n",
              "      <th>10 min</th>\n",
              "      <th>10 mins</th>\n",
              "      <th>10 minute</th>\n",
              "      <th>10 minutes</th>\n",
              "      <th>10 minutes away</th>\n",
              "      <th>10 nights</th>\n",
              "      <th>10 pm</th>\n",
              "      <th>10 year</th>\n",
              "      <th>10 year old</th>\n",
              "      <th>10 years</th>\n",
              "      <th>100</th>\n",
              "      <th>100 yards</th>\n",
              "      <th>1000</th>\n",
              "      <th>10000</th>\n",
              "      <th>101</th>\n",
              "      <th>1015</th>\n",
              "      <th>1015 minute</th>\n",
              "      <th>1015 minutes</th>\n",
              "      <th>1030</th>\n",
              "      <th>1030pm</th>\n",
              "      <th>10am</th>\n",
              "      <th>10mins</th>\n",
              "      <th>10minute</th>\n",
              "      <th>10pm</th>\n",
              "      <th>10th</th>\n",
              "      <th>10th floor</th>\n",
              "      <th>11</th>\n",
              "      <th>11 days</th>\n",
              "      <th>11 pm</th>\n",
              "      <th>110</th>\n",
              "      <th>...</th>\n",
              "      <th>yellow</th>\n",
              "      <th>yen</th>\n",
              "      <th>yes</th>\n",
              "      <th>yes yes</th>\n",
              "      <th>yesterday</th>\n",
              "      <th>yo</th>\n",
              "      <th>yoga</th>\n",
              "      <th>yoghurt</th>\n",
              "      <th>yoghurts</th>\n",
              "      <th>yogurt</th>\n",
              "      <th>yogurts</th>\n",
              "      <th>york</th>\n",
              "      <th>york city</th>\n",
              "      <th>you</th>\n",
              "      <th>young</th>\n",
              "      <th>young children</th>\n",
              "      <th>young kids</th>\n",
              "      <th>young lady</th>\n",
              "      <th>young man</th>\n",
              "      <th>young woman</th>\n",
              "      <th>younger</th>\n",
              "      <th>youre</th>\n",
              "      <th>youth</th>\n",
              "      <th>youthe</th>\n",
              "      <th>youçéèe</th>\n",
              "      <th>youçéêl</th>\n",
              "      <th>yr</th>\n",
              "      <th>yr old</th>\n",
              "      <th>yrs</th>\n",
              "      <th>yuck</th>\n",
              "      <th>yum</th>\n",
              "      <th>yummy</th>\n",
              "      <th>yunque</th>\n",
              "      <th>zero</th>\n",
              "      <th>zip</th>\n",
              "      <th>zona</th>\n",
              "      <th>zona rosa</th>\n",
              "      <th>zone</th>\n",
              "      <th>zoo</th>\n",
              "      <th>äcor</th>\n",
              "    </tr>\n",
              "  </thead>\n",
              "  <tbody>\n",
              "    <tr>\n",
              "      <th>0</th>\n",
              "      <td>0</td>\n",
              "      <td>0</td>\n",
              "      <td>0</td>\n",
              "      <td>0</td>\n",
              "      <td>0</td>\n",
              "      <td>0</td>\n",
              "      <td>0</td>\n",
              "      <td>0</td>\n",
              "      <td>0</td>\n",
              "      <td>0</td>\n",
              "      <td>0</td>\n",
              "      <td>0</td>\n",
              "      <td>0</td>\n",
              "      <td>0</td>\n",
              "      <td>0</td>\n",
              "      <td>0</td>\n",
              "      <td>0</td>\n",
              "      <td>0</td>\n",
              "      <td>0</td>\n",
              "      <td>0</td>\n",
              "      <td>0</td>\n",
              "      <td>0</td>\n",
              "      <td>0</td>\n",
              "      <td>0</td>\n",
              "      <td>0</td>\n",
              "      <td>0</td>\n",
              "      <td>0</td>\n",
              "      <td>0</td>\n",
              "      <td>0</td>\n",
              "      <td>0</td>\n",
              "      <td>0</td>\n",
              "      <td>0</td>\n",
              "      <td>0</td>\n",
              "      <td>0</td>\n",
              "      <td>0</td>\n",
              "      <td>0</td>\n",
              "      <td>0</td>\n",
              "      <td>0</td>\n",
              "      <td>0</td>\n",
              "      <td>0</td>\n",
              "      <td>...</td>\n",
              "      <td>0</td>\n",
              "      <td>0</td>\n",
              "      <td>0</td>\n",
              "      <td>0</td>\n",
              "      <td>0</td>\n",
              "      <td>0</td>\n",
              "      <td>0</td>\n",
              "      <td>0</td>\n",
              "      <td>0</td>\n",
              "      <td>0</td>\n",
              "      <td>0</td>\n",
              "      <td>0</td>\n",
              "      <td>0</td>\n",
              "      <td>0</td>\n",
              "      <td>0</td>\n",
              "      <td>0</td>\n",
              "      <td>0</td>\n",
              "      <td>0</td>\n",
              "      <td>0</td>\n",
              "      <td>0</td>\n",
              "      <td>0</td>\n",
              "      <td>0</td>\n",
              "      <td>0</td>\n",
              "      <td>0</td>\n",
              "      <td>0</td>\n",
              "      <td>0</td>\n",
              "      <td>0</td>\n",
              "      <td>0</td>\n",
              "      <td>0</td>\n",
              "      <td>0</td>\n",
              "      <td>0</td>\n",
              "      <td>0</td>\n",
              "      <td>0</td>\n",
              "      <td>0</td>\n",
              "      <td>0</td>\n",
              "      <td>0</td>\n",
              "      <td>0</td>\n",
              "      <td>0</td>\n",
              "      <td>0</td>\n",
              "      <td>0</td>\n",
              "    </tr>\n",
              "    <tr>\n",
              "      <th>1</th>\n",
              "      <td>0</td>\n",
              "      <td>0</td>\n",
              "      <td>0</td>\n",
              "      <td>0</td>\n",
              "      <td>0</td>\n",
              "      <td>0</td>\n",
              "      <td>0</td>\n",
              "      <td>0</td>\n",
              "      <td>0</td>\n",
              "      <td>0</td>\n",
              "      <td>0</td>\n",
              "      <td>0</td>\n",
              "      <td>0</td>\n",
              "      <td>0</td>\n",
              "      <td>0</td>\n",
              "      <td>0</td>\n",
              "      <td>0</td>\n",
              "      <td>0</td>\n",
              "      <td>0</td>\n",
              "      <td>0</td>\n",
              "      <td>0</td>\n",
              "      <td>0</td>\n",
              "      <td>0</td>\n",
              "      <td>0</td>\n",
              "      <td>0</td>\n",
              "      <td>0</td>\n",
              "      <td>0</td>\n",
              "      <td>0</td>\n",
              "      <td>0</td>\n",
              "      <td>0</td>\n",
              "      <td>0</td>\n",
              "      <td>0</td>\n",
              "      <td>0</td>\n",
              "      <td>0</td>\n",
              "      <td>0</td>\n",
              "      <td>0</td>\n",
              "      <td>1</td>\n",
              "      <td>0</td>\n",
              "      <td>1</td>\n",
              "      <td>0</td>\n",
              "      <td>...</td>\n",
              "      <td>0</td>\n",
              "      <td>0</td>\n",
              "      <td>0</td>\n",
              "      <td>0</td>\n",
              "      <td>0</td>\n",
              "      <td>0</td>\n",
              "      <td>0</td>\n",
              "      <td>0</td>\n",
              "      <td>0</td>\n",
              "      <td>0</td>\n",
              "      <td>0</td>\n",
              "      <td>0</td>\n",
              "      <td>0</td>\n",
              "      <td>0</td>\n",
              "      <td>0</td>\n",
              "      <td>0</td>\n",
              "      <td>0</td>\n",
              "      <td>0</td>\n",
              "      <td>0</td>\n",
              "      <td>0</td>\n",
              "      <td>0</td>\n",
              "      <td>0</td>\n",
              "      <td>0</td>\n",
              "      <td>0</td>\n",
              "      <td>0</td>\n",
              "      <td>0</td>\n",
              "      <td>0</td>\n",
              "      <td>0</td>\n",
              "      <td>0</td>\n",
              "      <td>0</td>\n",
              "      <td>0</td>\n",
              "      <td>0</td>\n",
              "      <td>0</td>\n",
              "      <td>0</td>\n",
              "      <td>0</td>\n",
              "      <td>0</td>\n",
              "      <td>0</td>\n",
              "      <td>0</td>\n",
              "      <td>0</td>\n",
              "      <td>0</td>\n",
              "    </tr>\n",
              "    <tr>\n",
              "      <th>2</th>\n",
              "      <td>0</td>\n",
              "      <td>0</td>\n",
              "      <td>0</td>\n",
              "      <td>0</td>\n",
              "      <td>0</td>\n",
              "      <td>0</td>\n",
              "      <td>0</td>\n",
              "      <td>0</td>\n",
              "      <td>0</td>\n",
              "      <td>0</td>\n",
              "      <td>0</td>\n",
              "      <td>0</td>\n",
              "      <td>0</td>\n",
              "      <td>0</td>\n",
              "      <td>0</td>\n",
              "      <td>0</td>\n",
              "      <td>0</td>\n",
              "      <td>0</td>\n",
              "      <td>0</td>\n",
              "      <td>0</td>\n",
              "      <td>0</td>\n",
              "      <td>0</td>\n",
              "      <td>0</td>\n",
              "      <td>0</td>\n",
              "      <td>0</td>\n",
              "      <td>0</td>\n",
              "      <td>0</td>\n",
              "      <td>0</td>\n",
              "      <td>0</td>\n",
              "      <td>0</td>\n",
              "      <td>2</td>\n",
              "      <td>0</td>\n",
              "      <td>0</td>\n",
              "      <td>0</td>\n",
              "      <td>0</td>\n",
              "      <td>0</td>\n",
              "      <td>0</td>\n",
              "      <td>0</td>\n",
              "      <td>0</td>\n",
              "      <td>0</td>\n",
              "      <td>...</td>\n",
              "      <td>0</td>\n",
              "      <td>0</td>\n",
              "      <td>0</td>\n",
              "      <td>0</td>\n",
              "      <td>0</td>\n",
              "      <td>0</td>\n",
              "      <td>0</td>\n",
              "      <td>0</td>\n",
              "      <td>0</td>\n",
              "      <td>0</td>\n",
              "      <td>0</td>\n",
              "      <td>0</td>\n",
              "      <td>0</td>\n",
              "      <td>0</td>\n",
              "      <td>0</td>\n",
              "      <td>0</td>\n",
              "      <td>0</td>\n",
              "      <td>0</td>\n",
              "      <td>0</td>\n",
              "      <td>0</td>\n",
              "      <td>0</td>\n",
              "      <td>0</td>\n",
              "      <td>0</td>\n",
              "      <td>0</td>\n",
              "      <td>0</td>\n",
              "      <td>0</td>\n",
              "      <td>0</td>\n",
              "      <td>0</td>\n",
              "      <td>0</td>\n",
              "      <td>0</td>\n",
              "      <td>0</td>\n",
              "      <td>0</td>\n",
              "      <td>0</td>\n",
              "      <td>0</td>\n",
              "      <td>0</td>\n",
              "      <td>0</td>\n",
              "      <td>0</td>\n",
              "      <td>0</td>\n",
              "      <td>0</td>\n",
              "      <td>0</td>\n",
              "    </tr>\n",
              "    <tr>\n",
              "      <th>3</th>\n",
              "      <td>0</td>\n",
              "      <td>0</td>\n",
              "      <td>0</td>\n",
              "      <td>0</td>\n",
              "      <td>0</td>\n",
              "      <td>0</td>\n",
              "      <td>0</td>\n",
              "      <td>0</td>\n",
              "      <td>0</td>\n",
              "      <td>0</td>\n",
              "      <td>0</td>\n",
              "      <td>0</td>\n",
              "      <td>0</td>\n",
              "      <td>0</td>\n",
              "      <td>0</td>\n",
              "      <td>0</td>\n",
              "      <td>0</td>\n",
              "      <td>0</td>\n",
              "      <td>0</td>\n",
              "      <td>0</td>\n",
              "      <td>0</td>\n",
              "      <td>0</td>\n",
              "      <td>0</td>\n",
              "      <td>0</td>\n",
              "      <td>0</td>\n",
              "      <td>0</td>\n",
              "      <td>0</td>\n",
              "      <td>0</td>\n",
              "      <td>0</td>\n",
              "      <td>0</td>\n",
              "      <td>0</td>\n",
              "      <td>0</td>\n",
              "      <td>0</td>\n",
              "      <td>0</td>\n",
              "      <td>0</td>\n",
              "      <td>0</td>\n",
              "      <td>0</td>\n",
              "      <td>0</td>\n",
              "      <td>0</td>\n",
              "      <td>0</td>\n",
              "      <td>...</td>\n",
              "      <td>0</td>\n",
              "      <td>0</td>\n",
              "      <td>0</td>\n",
              "      <td>0</td>\n",
              "      <td>0</td>\n",
              "      <td>0</td>\n",
              "      <td>0</td>\n",
              "      <td>0</td>\n",
              "      <td>0</td>\n",
              "      <td>0</td>\n",
              "      <td>0</td>\n",
              "      <td>0</td>\n",
              "      <td>0</td>\n",
              "      <td>0</td>\n",
              "      <td>0</td>\n",
              "      <td>0</td>\n",
              "      <td>0</td>\n",
              "      <td>0</td>\n",
              "      <td>0</td>\n",
              "      <td>0</td>\n",
              "      <td>0</td>\n",
              "      <td>0</td>\n",
              "      <td>0</td>\n",
              "      <td>0</td>\n",
              "      <td>0</td>\n",
              "      <td>0</td>\n",
              "      <td>0</td>\n",
              "      <td>0</td>\n",
              "      <td>0</td>\n",
              "      <td>0</td>\n",
              "      <td>0</td>\n",
              "      <td>0</td>\n",
              "      <td>0</td>\n",
              "      <td>0</td>\n",
              "      <td>0</td>\n",
              "      <td>0</td>\n",
              "      <td>0</td>\n",
              "      <td>0</td>\n",
              "      <td>0</td>\n",
              "      <td>0</td>\n",
              "    </tr>\n",
              "    <tr>\n",
              "      <th>4</th>\n",
              "      <td>0</td>\n",
              "      <td>0</td>\n",
              "      <td>0</td>\n",
              "      <td>0</td>\n",
              "      <td>0</td>\n",
              "      <td>0</td>\n",
              "      <td>0</td>\n",
              "      <td>0</td>\n",
              "      <td>0</td>\n",
              "      <td>0</td>\n",
              "      <td>0</td>\n",
              "      <td>0</td>\n",
              "      <td>0</td>\n",
              "      <td>0</td>\n",
              "      <td>0</td>\n",
              "      <td>0</td>\n",
              "      <td>0</td>\n",
              "      <td>0</td>\n",
              "      <td>0</td>\n",
              "      <td>0</td>\n",
              "      <td>0</td>\n",
              "      <td>0</td>\n",
              "      <td>0</td>\n",
              "      <td>0</td>\n",
              "      <td>0</td>\n",
              "      <td>0</td>\n",
              "      <td>0</td>\n",
              "      <td>0</td>\n",
              "      <td>0</td>\n",
              "      <td>0</td>\n",
              "      <td>0</td>\n",
              "      <td>0</td>\n",
              "      <td>0</td>\n",
              "      <td>0</td>\n",
              "      <td>0</td>\n",
              "      <td>0</td>\n",
              "      <td>0</td>\n",
              "      <td>0</td>\n",
              "      <td>0</td>\n",
              "      <td>0</td>\n",
              "      <td>...</td>\n",
              "      <td>0</td>\n",
              "      <td>0</td>\n",
              "      <td>0</td>\n",
              "      <td>0</td>\n",
              "      <td>0</td>\n",
              "      <td>0</td>\n",
              "      <td>0</td>\n",
              "      <td>0</td>\n",
              "      <td>0</td>\n",
              "      <td>0</td>\n",
              "      <td>0</td>\n",
              "      <td>0</td>\n",
              "      <td>0</td>\n",
              "      <td>0</td>\n",
              "      <td>0</td>\n",
              "      <td>0</td>\n",
              "      <td>0</td>\n",
              "      <td>0</td>\n",
              "      <td>0</td>\n",
              "      <td>0</td>\n",
              "      <td>0</td>\n",
              "      <td>0</td>\n",
              "      <td>0</td>\n",
              "      <td>0</td>\n",
              "      <td>0</td>\n",
              "      <td>0</td>\n",
              "      <td>0</td>\n",
              "      <td>0</td>\n",
              "      <td>0</td>\n",
              "      <td>0</td>\n",
              "      <td>0</td>\n",
              "      <td>0</td>\n",
              "      <td>0</td>\n",
              "      <td>0</td>\n",
              "      <td>0</td>\n",
              "      <td>0</td>\n",
              "      <td>0</td>\n",
              "      <td>0</td>\n",
              "      <td>0</td>\n",
              "      <td>0</td>\n",
              "    </tr>\n",
              "  </tbody>\n",
              "</table>\n",
              "<p>5 rows × 10000 columns</p>\n",
              "</div>"
            ],
            "text/plain": [
              "   04  05  06  07  08  10  10 15  ...  zero  zip  zona  zona rosa  zone  zoo  äcor\n",
              "0   0   0   0   0   0   0      0  ...     0    0     0          0     0    0     0\n",
              "1   0   0   0   0   0   0      0  ...     0    0     0          0     0    0     0\n",
              "2   0   0   0   0   0   0      0  ...     0    0     0          0     0    0     0\n",
              "3   0   0   0   0   0   0      0  ...     0    0     0          0     0    0     0\n",
              "4   0   0   0   0   0   0      0  ...     0    0     0          0     0    0     0\n",
              "\n",
              "[5 rows x 10000 columns]"
            ]
          },
          "metadata": {},
          "execution_count": 15
        }
      ]
    },
    {
      "cell_type": "code",
      "metadata": {
        "id": "Z8vasoC3-_FI"
      },
      "source": [
        "model_data = pd.concat([count_vect_df,data],axis=1)"
      ],
      "execution_count": null,
      "outputs": []
    },
    {
      "cell_type": "code",
      "metadata": {
        "id": "pDSzTf5y_MXh"
      },
      "source": [
        "model_data.drop(['Review_Clean_v1','Review'],axis=1,inplace=True)"
      ],
      "execution_count": null,
      "outputs": []
    },
    {
      "cell_type": "code",
      "metadata": {
        "id": "r1xVmMEN_wWQ"
      },
      "source": [
        "def get_sentiment(rating):\n",
        "  if rating >= 3:\n",
        "    return \"Postive\"\n",
        "  else:\n",
        "    return \"Negative\"\n",
        "\n",
        "model_data['Sentiment'] = model_data['Rating'].apply(get_sentiment)"
      ],
      "execution_count": null,
      "outputs": []
    },
    {
      "cell_type": "code",
      "metadata": {
        "id": "HTHn19LGAG4-"
      },
      "source": [
        "model_data.drop(['Rating'],axis=1,inplace=True)"
      ],
      "execution_count": null,
      "outputs": []
    },
    {
      "cell_type": "code",
      "metadata": {
        "id": "Az1EVZXjAzoO"
      },
      "source": [
        "model_data.to_csv(\"model_data.csv\")"
      ],
      "execution_count": null,
      "outputs": []
    },
    {
      "cell_type": "code",
      "metadata": {
        "id": "ICERjl_K_aoL"
      },
      "source": [
        "X = model_data.drop(['Sentiment'],axis=1)\n",
        "y = model_data['Sentiment']\n",
        "from sklearn.model_selection import train_test_split\n",
        "X_train, X_test, y_train, y_test = train_test_split(X, y, test_size=0.20, random_state=42)"
      ],
      "execution_count": null,
      "outputs": []
    },
    {
      "cell_type": "code",
      "metadata": {
        "colab": {
          "base_uri": "https://localhost:8080/"
        },
        "id": "S6lX5yI0AgIF",
        "outputId": "e80d5ffe-b7d3-410b-db48-5c247a6a5dbc"
      },
      "source": [
        "from sklearn.linear_model import LogisticRegression\n",
        "clf = LogisticRegression(random_state=0).fit(X_train, y_train)"
      ],
      "execution_count": null,
      "outputs": [
        {
          "output_type": "stream",
          "name": "stderr",
          "text": [
            "/usr/local/lib/python3.7/dist-packages/sklearn/linear_model/_logistic.py:940: ConvergenceWarning: lbfgs failed to converge (status=1):\n",
            "STOP: TOTAL NO. of ITERATIONS REACHED LIMIT.\n",
            "\n",
            "Increase the number of iterations (max_iter) or scale the data as shown in:\n",
            "    https://scikit-learn.org/stable/modules/preprocessing.html\n",
            "Please also refer to the documentation for alternative solver options:\n",
            "    https://scikit-learn.org/stable/modules/linear_model.html#logistic-regression\n",
            "  extra_warning_msg=_LOGISTIC_SOLVER_CONVERGENCE_MSG)\n"
          ]
        }
      ]
    },
    {
      "cell_type": "code",
      "metadata": {
        "id": "jdU60VqcBxmD"
      },
      "source": [
        "prediction = clf.predict(X_test)"
      ],
      "execution_count": null,
      "outputs": []
    },
    {
      "cell_type": "code",
      "metadata": {
        "colab": {
          "base_uri": "https://localhost:8080/"
        },
        "id": "o3leiirsB7Mo",
        "outputId": "571f44db-286a-442b-bf38-9bc00f562924"
      },
      "source": [
        "from sklearn.metrics import classification_report\n",
        "print(classification_report(y_test, prediction))"
      ],
      "execution_count": null,
      "outputs": [
        {
          "output_type": "stream",
          "name": "stdout",
          "text": [
            "              precision    recall  f1-score   support\n",
            "\n",
            "    Negative       0.82      0.69      0.75       625\n",
            "     Postive       0.95      0.97      0.96      3474\n",
            "\n",
            "    accuracy                           0.93      4099\n",
            "   macro avg       0.88      0.83      0.85      4099\n",
            "weighted avg       0.93      0.93      0.93      4099\n",
            "\n"
          ]
        }
      ]
    },
    {
      "cell_type": "code",
      "metadata": {
        "id": "ZgV5xc9hBMo-"
      },
      "source": [
        "#PYCaret "
      ],
      "execution_count": null,
      "outputs": []
    }
  ]
}